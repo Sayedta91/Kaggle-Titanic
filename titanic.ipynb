{
 "cells": [
  {
   "cell_type": "markdown",
   "id": "70ea426b",
   "metadata": {
    "_cell_guid": "b1076dfc-b9ad-4769-8c92-a6c4dae69d19",
    "_uuid": "8f2839f25d086af736a60e9eeb907d3b93b6e0e5",
    "execution": {
     "iopub.execute_input": "2024-06-26T13:17:28.473686Z",
     "iopub.status.busy": "2024-06-26T13:17:28.473202Z",
     "iopub.status.idle": "2024-06-26T13:17:28.516299Z",
     "shell.execute_reply": "2024-06-26T13:17:28.514516Z",
     "shell.execute_reply.started": "2024-06-26T13:17:28.473579Z"
    },
    "papermill": {
     "duration": 0.024108,
     "end_time": "2024-07-03T12:11:35.861848",
     "exception": false,
     "start_time": "2024-07-03T12:11:35.837740",
     "status": "completed"
    },
    "tags": []
   },
   "source": [
    "# Kaggle Competition | Titanic - Machine Learning from Distaster\n",
    "\n",
    "The sinking of the Titanic is one of the most infamous shipwrecks in history.\n",
    "\n",
    "On April 15, 1912, during her maiden voyage, the widely considered “unsinkable” RMS Titanic sank after colliding with an iceberg. Unfortunately, there weren’t enough lifeboats for everyone onboard, resulting in the death of 1502 out of 2224 passengers and crew.\n",
    "\n",
    "While there was some element of luck involved in surviving, it seems some groups of people were more likely to survive than others.\n",
    "\n",
    "In this challenge, we ask you to build a predictive model that answers the question: “what sorts of people were more likely to survive?” using passenger data (ie name, age, gender, socio-economic class, etc).\n",
    "\n",
    "The competition can be found [here](https://www.kaggle.com/competitions/titanic)\n",
    "___\n",
    "\n",
    "This is my first attempt at a Kaggle data analysis and data science challenge. "
   ]
  },
  {
   "cell_type": "markdown",
   "id": "7b92e1a5",
   "metadata": {
    "papermill": {
     "duration": 0.022232,
     "end_time": "2024-07-03T12:11:35.907113",
     "exception": false,
     "start_time": "2024-07-03T12:11:35.884881",
     "status": "completed"
    },
    "tags": []
   },
   "source": [
    "## Contents\n",
    "- Data Exploration\n",
    "    - Importing Libraries\n",
    "    - Data Description\n",
    "- Data Analysis\n",
    "- Data Visulisation\n",
    "    - Find relationships\n",
    "    - Asking questions\n",
    "- Data Cleansing & Feature Engineering\n",
    "- Model Selection\n",
    "- Submission"
   ]
  },
  {
   "cell_type": "markdown",
   "id": "e29847cc",
   "metadata": {
    "papermill": {
     "duration": 0.022686,
     "end_time": "2024-07-03T12:11:35.953079",
     "exception": false,
     "start_time": "2024-07-03T12:11:35.930393",
     "status": "completed"
    },
    "tags": []
   },
   "source": [
    "## General Data Exploration"
   ]
  },
  {
   "cell_type": "code",
   "execution_count": 1,
   "id": "8cc3aada",
   "metadata": {
    "execution": {
     "iopub.execute_input": "2024-07-03T12:11:35.999637Z",
     "iopub.status.busy": "2024-07-03T12:11:35.999208Z",
     "iopub.status.idle": "2024-07-03T12:11:38.883621Z",
     "shell.execute_reply": "2024-07-03T12:11:38.882465Z"
    },
    "papermill": {
     "duration": 2.910855,
     "end_time": "2024-07-03T12:11:38.886386",
     "exception": false,
     "start_time": "2024-07-03T12:11:35.975531",
     "status": "completed"
    },
    "tags": []
   },
   "outputs": [],
   "source": [
    "# Importing requires libraries\n",
    "import warnings\n",
    "warnings.filterwarnings('ignore')\n",
    "# Pandas and numpty for dataset/array manipulation\n",
    "import pandas as pd\n",
    "import numpy as np\n",
    "\n",
    "# Seaborn and Matplotlib for visualisation\n",
    "import seaborn as sns\n",
    "import matplotlib.pyplot as plt\n",
    "%matplotlib inline\n",
    "\n",
    "# Sklearn for Machine Laerning and Statistical Modelling\n",
    "from sklearn.preprocessing import OrdinalEncoder, OneHotEncoder, LabelEncoder\n",
    "from sklearn.impute import SimpleImputer\n",
    "from sklearn.compose import make_column_transformer\n",
    "from sklearn.pipeline import Pipeline, make_pipeline\n",
    "from sklearn.linear_model import LogisticRegression, Perceptron, SGDClassifier\n",
    "from sklearn.svm import SVC\n",
    "from sklearn.ensemble import RandomForestClassifier, RandomForestRegressor, GradientBoostingClassifier\n",
    "from sklearn.tree import DecisionTreeClassifier, DecisionTreeRegressor\n",
    "from sklearn.neighbors import KNeighborsClassifier\n",
    "from sklearn.naive_bayes import GaussianNB\n",
    "from sklearn.metrics import mean_squared_error, accuracy_score\n",
    "from sklearn.model_selection import cross_val_score, StratifiedKFold, train_test_split, GridSearchCV"
   ]
  },
  {
   "cell_type": "code",
   "execution_count": 2,
   "id": "5113085c",
   "metadata": {
    "execution": {
     "iopub.execute_input": "2024-07-03T12:11:38.934522Z",
     "iopub.status.busy": "2024-07-03T12:11:38.933658Z",
     "iopub.status.idle": "2024-07-03T12:11:38.966119Z",
     "shell.execute_reply": "2024-07-03T12:11:38.964886Z"
    },
    "papermill": {
     "duration": 0.059171,
     "end_time": "2024-07-03T12:11:38.968742",
     "exception": false,
     "start_time": "2024-07-03T12:11:38.909571",
     "status": "completed"
    },
    "tags": []
   },
   "outputs": [],
   "source": [
    "# Read the datasets into a pandas dataframe\n",
    "train_df = pd.read_csv(\"/kaggle/input/titanic/train.csv\")\n",
    "test_df = pd.read_csv(\"/kaggle/input/titanic/test.csv\")"
   ]
  },
  {
   "cell_type": "code",
   "execution_count": 3,
   "id": "b5d96218",
   "metadata": {
    "execution": {
     "iopub.execute_input": "2024-07-03T12:11:39.016400Z",
     "iopub.status.busy": "2024-07-03T12:11:39.015330Z",
     "iopub.status.idle": "2024-07-03T12:11:39.046559Z",
     "shell.execute_reply": "2024-07-03T12:11:39.045307Z"
    },
    "papermill": {
     "duration": 0.05759,
     "end_time": "2024-07-03T12:11:39.049135",
     "exception": false,
     "start_time": "2024-07-03T12:11:38.991545",
     "status": "completed"
    },
    "tags": []
   },
   "outputs": [
    {
     "data": {
      "text/html": [
       "<div>\n",
       "<style scoped>\n",
       "    .dataframe tbody tr th:only-of-type {\n",
       "        vertical-align: middle;\n",
       "    }\n",
       "\n",
       "    .dataframe tbody tr th {\n",
       "        vertical-align: top;\n",
       "    }\n",
       "\n",
       "    .dataframe thead th {\n",
       "        text-align: right;\n",
       "    }\n",
       "</style>\n",
       "<table border=\"1\" class=\"dataframe\">\n",
       "  <thead>\n",
       "    <tr style=\"text-align: right;\">\n",
       "      <th></th>\n",
       "      <th>PassengerId</th>\n",
       "      <th>Survived</th>\n",
       "      <th>Pclass</th>\n",
       "      <th>Name</th>\n",
       "      <th>Sex</th>\n",
       "      <th>Age</th>\n",
       "      <th>SibSp</th>\n",
       "      <th>Parch</th>\n",
       "      <th>Ticket</th>\n",
       "      <th>Fare</th>\n",
       "      <th>Cabin</th>\n",
       "      <th>Embarked</th>\n",
       "    </tr>\n",
       "  </thead>\n",
       "  <tbody>\n",
       "    <tr>\n",
       "      <th>0</th>\n",
       "      <td>1</td>\n",
       "      <td>0</td>\n",
       "      <td>3</td>\n",
       "      <td>Braund, Mr. Owen Harris</td>\n",
       "      <td>male</td>\n",
       "      <td>22.0</td>\n",
       "      <td>1</td>\n",
       "      <td>0</td>\n",
       "      <td>A/5 21171</td>\n",
       "      <td>7.2500</td>\n",
       "      <td>NaN</td>\n",
       "      <td>S</td>\n",
       "    </tr>\n",
       "    <tr>\n",
       "      <th>1</th>\n",
       "      <td>2</td>\n",
       "      <td>1</td>\n",
       "      <td>1</td>\n",
       "      <td>Cumings, Mrs. John Bradley (Florence Briggs Th...</td>\n",
       "      <td>female</td>\n",
       "      <td>38.0</td>\n",
       "      <td>1</td>\n",
       "      <td>0</td>\n",
       "      <td>PC 17599</td>\n",
       "      <td>71.2833</td>\n",
       "      <td>C85</td>\n",
       "      <td>C</td>\n",
       "    </tr>\n",
       "    <tr>\n",
       "      <th>2</th>\n",
       "      <td>3</td>\n",
       "      <td>1</td>\n",
       "      <td>3</td>\n",
       "      <td>Heikkinen, Miss. Laina</td>\n",
       "      <td>female</td>\n",
       "      <td>26.0</td>\n",
       "      <td>0</td>\n",
       "      <td>0</td>\n",
       "      <td>STON/O2. 3101282</td>\n",
       "      <td>7.9250</td>\n",
       "      <td>NaN</td>\n",
       "      <td>S</td>\n",
       "    </tr>\n",
       "    <tr>\n",
       "      <th>3</th>\n",
       "      <td>4</td>\n",
       "      <td>1</td>\n",
       "      <td>1</td>\n",
       "      <td>Futrelle, Mrs. Jacques Heath (Lily May Peel)</td>\n",
       "      <td>female</td>\n",
       "      <td>35.0</td>\n",
       "      <td>1</td>\n",
       "      <td>0</td>\n",
       "      <td>113803</td>\n",
       "      <td>53.1000</td>\n",
       "      <td>C123</td>\n",
       "      <td>S</td>\n",
       "    </tr>\n",
       "    <tr>\n",
       "      <th>4</th>\n",
       "      <td>5</td>\n",
       "      <td>0</td>\n",
       "      <td>3</td>\n",
       "      <td>Allen, Mr. William Henry</td>\n",
       "      <td>male</td>\n",
       "      <td>35.0</td>\n",
       "      <td>0</td>\n",
       "      <td>0</td>\n",
       "      <td>373450</td>\n",
       "      <td>8.0500</td>\n",
       "      <td>NaN</td>\n",
       "      <td>S</td>\n",
       "    </tr>\n",
       "    <tr>\n",
       "      <th>5</th>\n",
       "      <td>6</td>\n",
       "      <td>0</td>\n",
       "      <td>3</td>\n",
       "      <td>Moran, Mr. James</td>\n",
       "      <td>male</td>\n",
       "      <td>NaN</td>\n",
       "      <td>0</td>\n",
       "      <td>0</td>\n",
       "      <td>330877</td>\n",
       "      <td>8.4583</td>\n",
       "      <td>NaN</td>\n",
       "      <td>Q</td>\n",
       "    </tr>\n",
       "    <tr>\n",
       "      <th>6</th>\n",
       "      <td>7</td>\n",
       "      <td>0</td>\n",
       "      <td>1</td>\n",
       "      <td>McCarthy, Mr. Timothy J</td>\n",
       "      <td>male</td>\n",
       "      <td>54.0</td>\n",
       "      <td>0</td>\n",
       "      <td>0</td>\n",
       "      <td>17463</td>\n",
       "      <td>51.8625</td>\n",
       "      <td>E46</td>\n",
       "      <td>S</td>\n",
       "    </tr>\n",
       "    <tr>\n",
       "      <th>7</th>\n",
       "      <td>8</td>\n",
       "      <td>0</td>\n",
       "      <td>3</td>\n",
       "      <td>Palsson, Master. Gosta Leonard</td>\n",
       "      <td>male</td>\n",
       "      <td>2.0</td>\n",
       "      <td>3</td>\n",
       "      <td>1</td>\n",
       "      <td>349909</td>\n",
       "      <td>21.0750</td>\n",
       "      <td>NaN</td>\n",
       "      <td>S</td>\n",
       "    </tr>\n",
       "    <tr>\n",
       "      <th>8</th>\n",
       "      <td>9</td>\n",
       "      <td>1</td>\n",
       "      <td>3</td>\n",
       "      <td>Johnson, Mrs. Oscar W (Elisabeth Vilhelmina Berg)</td>\n",
       "      <td>female</td>\n",
       "      <td>27.0</td>\n",
       "      <td>0</td>\n",
       "      <td>2</td>\n",
       "      <td>347742</td>\n",
       "      <td>11.1333</td>\n",
       "      <td>NaN</td>\n",
       "      <td>S</td>\n",
       "    </tr>\n",
       "    <tr>\n",
       "      <th>9</th>\n",
       "      <td>10</td>\n",
       "      <td>1</td>\n",
       "      <td>2</td>\n",
       "      <td>Nasser, Mrs. Nicholas (Adele Achem)</td>\n",
       "      <td>female</td>\n",
       "      <td>14.0</td>\n",
       "      <td>1</td>\n",
       "      <td>0</td>\n",
       "      <td>237736</td>\n",
       "      <td>30.0708</td>\n",
       "      <td>NaN</td>\n",
       "      <td>C</td>\n",
       "    </tr>\n",
       "  </tbody>\n",
       "</table>\n",
       "</div>"
      ],
      "text/plain": [
       "   PassengerId  Survived  Pclass  \\\n",
       "0            1         0       3   \n",
       "1            2         1       1   \n",
       "2            3         1       3   \n",
       "3            4         1       1   \n",
       "4            5         0       3   \n",
       "5            6         0       3   \n",
       "6            7         0       1   \n",
       "7            8         0       3   \n",
       "8            9         1       3   \n",
       "9           10         1       2   \n",
       "\n",
       "                                                Name     Sex   Age  SibSp  \\\n",
       "0                            Braund, Mr. Owen Harris    male  22.0      1   \n",
       "1  Cumings, Mrs. John Bradley (Florence Briggs Th...  female  38.0      1   \n",
       "2                             Heikkinen, Miss. Laina  female  26.0      0   \n",
       "3       Futrelle, Mrs. Jacques Heath (Lily May Peel)  female  35.0      1   \n",
       "4                           Allen, Mr. William Henry    male  35.0      0   \n",
       "5                                   Moran, Mr. James    male   NaN      0   \n",
       "6                            McCarthy, Mr. Timothy J    male  54.0      0   \n",
       "7                     Palsson, Master. Gosta Leonard    male   2.0      3   \n",
       "8  Johnson, Mrs. Oscar W (Elisabeth Vilhelmina Berg)  female  27.0      0   \n",
       "9                Nasser, Mrs. Nicholas (Adele Achem)  female  14.0      1   \n",
       "\n",
       "   Parch            Ticket     Fare Cabin Embarked  \n",
       "0      0         A/5 21171   7.2500   NaN        S  \n",
       "1      0          PC 17599  71.2833   C85        C  \n",
       "2      0  STON/O2. 3101282   7.9250   NaN        S  \n",
       "3      0            113803  53.1000  C123        S  \n",
       "4      0            373450   8.0500   NaN        S  \n",
       "5      0            330877   8.4583   NaN        Q  \n",
       "6      0             17463  51.8625   E46        S  \n",
       "7      1            349909  21.0750   NaN        S  \n",
       "8      2            347742  11.1333   NaN        S  \n",
       "9      0            237736  30.0708   NaN        C  "
      ]
     },
     "execution_count": 3,
     "metadata": {},
     "output_type": "execute_result"
    }
   ],
   "source": [
    "# Display the first 10 rows of data\n",
    "train_df.head(10)"
   ]
  },
  {
   "cell_type": "markdown",
   "id": "29c24f85",
   "metadata": {
    "papermill": {
     "duration": 0.023286,
     "end_time": "2024-07-03T12:11:39.095675",
     "exception": false,
     "start_time": "2024-07-03T12:11:39.072389",
     "status": "completed"
    },
    "tags": []
   },
   "source": [
    "#### Data Description <br>\n",
    "- Survived: 0 = Did Not Survive, 1 = Survived\n",
    "- Pclass: Ticket class, 1 = Upper Class, 2 = Middle Class, 3 = Lower Class.  A proxy for socio-economic status\n",
    "- Age: in years, fractional if less than 1\n",
    "- SibSp: Number of siblings or spouses\n",
    "- Parch: Number of parents or children\n",
    "- Ticket: Passenger ticket number\n",
    "- Fare: Passenger fare\n",
    "- Cabin: Cabin Number\n",
    "- Embarked: Point of embarkation. C = Cherbourg, Q = Queenstown, S = Southampton"
   ]
  },
  {
   "cell_type": "code",
   "execution_count": 4,
   "id": "07f73663",
   "metadata": {
    "execution": {
     "iopub.execute_input": "2024-07-03T12:11:39.144156Z",
     "iopub.status.busy": "2024-07-03T12:11:39.143719Z",
     "iopub.status.idle": "2024-07-03T12:11:39.194776Z",
     "shell.execute_reply": "2024-07-03T12:11:39.193504Z"
    },
    "papermill": {
     "duration": 0.078084,
     "end_time": "2024-07-03T12:11:39.197153",
     "exception": false,
     "start_time": "2024-07-03T12:11:39.119069",
     "status": "completed"
    },
    "tags": []
   },
   "outputs": [
    {
     "name": "stdout",
     "output_type": "stream",
     "text": [
      "<class 'pandas.core.frame.DataFrame'>\n",
      "RangeIndex: 891 entries, 0 to 890\n",
      "Data columns (total 12 columns):\n",
      " #   Column       Non-Null Count  Dtype  \n",
      "---  ------       --------------  -----  \n",
      " 0   PassengerId  891 non-null    int64  \n",
      " 1   Survived     891 non-null    int64  \n",
      " 2   Pclass       891 non-null    int64  \n",
      " 3   Name         891 non-null    object \n",
      " 4   Sex          891 non-null    object \n",
      " 5   Age          714 non-null    float64\n",
      " 6   SibSp        891 non-null    int64  \n",
      " 7   Parch        891 non-null    int64  \n",
      " 8   Ticket       891 non-null    object \n",
      " 9   Fare         891 non-null    float64\n",
      " 10  Cabin        204 non-null    object \n",
      " 11  Embarked     889 non-null    object \n",
      "dtypes: float64(2), int64(5), object(5)\n",
      "memory usage: 83.7+ KB\n"
     ]
    },
    {
     "data": {
      "text/html": [
       "<div>\n",
       "<style scoped>\n",
       "    .dataframe tbody tr th:only-of-type {\n",
       "        vertical-align: middle;\n",
       "    }\n",
       "\n",
       "    .dataframe tbody tr th {\n",
       "        vertical-align: top;\n",
       "    }\n",
       "\n",
       "    .dataframe thead th {\n",
       "        text-align: right;\n",
       "    }\n",
       "</style>\n",
       "<table border=\"1\" class=\"dataframe\">\n",
       "  <thead>\n",
       "    <tr style=\"text-align: right;\">\n",
       "      <th></th>\n",
       "      <th>PassengerId</th>\n",
       "      <th>Survived</th>\n",
       "      <th>Pclass</th>\n",
       "      <th>Age</th>\n",
       "      <th>SibSp</th>\n",
       "      <th>Parch</th>\n",
       "      <th>Fare</th>\n",
       "    </tr>\n",
       "  </thead>\n",
       "  <tbody>\n",
       "    <tr>\n",
       "      <th>count</th>\n",
       "      <td>891.000000</td>\n",
       "      <td>891.000000</td>\n",
       "      <td>891.000000</td>\n",
       "      <td>714.000000</td>\n",
       "      <td>891.000000</td>\n",
       "      <td>891.000000</td>\n",
       "      <td>891.000000</td>\n",
       "    </tr>\n",
       "    <tr>\n",
       "      <th>mean</th>\n",
       "      <td>446.000000</td>\n",
       "      <td>0.383838</td>\n",
       "      <td>2.308642</td>\n",
       "      <td>29.699118</td>\n",
       "      <td>0.523008</td>\n",
       "      <td>0.381594</td>\n",
       "      <td>32.204208</td>\n",
       "    </tr>\n",
       "    <tr>\n",
       "      <th>std</th>\n",
       "      <td>257.353842</td>\n",
       "      <td>0.486592</td>\n",
       "      <td>0.836071</td>\n",
       "      <td>14.526497</td>\n",
       "      <td>1.102743</td>\n",
       "      <td>0.806057</td>\n",
       "      <td>49.693429</td>\n",
       "    </tr>\n",
       "    <tr>\n",
       "      <th>min</th>\n",
       "      <td>1.000000</td>\n",
       "      <td>0.000000</td>\n",
       "      <td>1.000000</td>\n",
       "      <td>0.420000</td>\n",
       "      <td>0.000000</td>\n",
       "      <td>0.000000</td>\n",
       "      <td>0.000000</td>\n",
       "    </tr>\n",
       "    <tr>\n",
       "      <th>25%</th>\n",
       "      <td>223.500000</td>\n",
       "      <td>0.000000</td>\n",
       "      <td>2.000000</td>\n",
       "      <td>20.125000</td>\n",
       "      <td>0.000000</td>\n",
       "      <td>0.000000</td>\n",
       "      <td>7.910400</td>\n",
       "    </tr>\n",
       "    <tr>\n",
       "      <th>50%</th>\n",
       "      <td>446.000000</td>\n",
       "      <td>0.000000</td>\n",
       "      <td>3.000000</td>\n",
       "      <td>28.000000</td>\n",
       "      <td>0.000000</td>\n",
       "      <td>0.000000</td>\n",
       "      <td>14.454200</td>\n",
       "    </tr>\n",
       "    <tr>\n",
       "      <th>75%</th>\n",
       "      <td>668.500000</td>\n",
       "      <td>1.000000</td>\n",
       "      <td>3.000000</td>\n",
       "      <td>38.000000</td>\n",
       "      <td>1.000000</td>\n",
       "      <td>0.000000</td>\n",
       "      <td>31.000000</td>\n",
       "    </tr>\n",
       "    <tr>\n",
       "      <th>max</th>\n",
       "      <td>891.000000</td>\n",
       "      <td>1.000000</td>\n",
       "      <td>3.000000</td>\n",
       "      <td>80.000000</td>\n",
       "      <td>8.000000</td>\n",
       "      <td>6.000000</td>\n",
       "      <td>512.329200</td>\n",
       "    </tr>\n",
       "  </tbody>\n",
       "</table>\n",
       "</div>"
      ],
      "text/plain": [
       "       PassengerId    Survived      Pclass         Age       SibSp  \\\n",
       "count   891.000000  891.000000  891.000000  714.000000  891.000000   \n",
       "mean    446.000000    0.383838    2.308642   29.699118    0.523008   \n",
       "std     257.353842    0.486592    0.836071   14.526497    1.102743   \n",
       "min       1.000000    0.000000    1.000000    0.420000    0.000000   \n",
       "25%     223.500000    0.000000    2.000000   20.125000    0.000000   \n",
       "50%     446.000000    0.000000    3.000000   28.000000    0.000000   \n",
       "75%     668.500000    1.000000    3.000000   38.000000    1.000000   \n",
       "max     891.000000    1.000000    3.000000   80.000000    8.000000   \n",
       "\n",
       "            Parch        Fare  \n",
       "count  891.000000  891.000000  \n",
       "mean     0.381594   32.204208  \n",
       "std      0.806057   49.693429  \n",
       "min      0.000000    0.000000  \n",
       "25%      0.000000    7.910400  \n",
       "50%      0.000000   14.454200  \n",
       "75%      0.000000   31.000000  \n",
       "max      6.000000  512.329200  "
      ]
     },
     "execution_count": 4,
     "metadata": {},
     "output_type": "execute_result"
    }
   ],
   "source": [
    "# Information about the Dataframe including index dtype and columns, non-null value\n",
    "train_df.info()\n",
    "\n",
    "# Generate descriptive statistics of the dataset\n",
    "train_df.describe()"
   ]
  },
  {
   "cell_type": "code",
   "execution_count": 5,
   "id": "6005b30e",
   "metadata": {
    "execution": {
     "iopub.execute_input": "2024-07-03T12:11:39.246053Z",
     "iopub.status.busy": "2024-07-03T12:11:39.245625Z",
     "iopub.status.idle": "2024-07-03T12:11:39.269887Z",
     "shell.execute_reply": "2024-07-03T12:11:39.268748Z"
    },
    "papermill": {
     "duration": 0.051839,
     "end_time": "2024-07-03T12:11:39.272557",
     "exception": false,
     "start_time": "2024-07-03T12:11:39.220718",
     "status": "completed"
    },
    "tags": []
   },
   "outputs": [
    {
     "data": {
      "text/html": [
       "<div>\n",
       "<style scoped>\n",
       "    .dataframe tbody tr th:only-of-type {\n",
       "        vertical-align: middle;\n",
       "    }\n",
       "\n",
       "    .dataframe tbody tr th {\n",
       "        vertical-align: top;\n",
       "    }\n",
       "\n",
       "    .dataframe thead th {\n",
       "        text-align: right;\n",
       "    }\n",
       "</style>\n",
       "<table border=\"1\" class=\"dataframe\">\n",
       "  <thead>\n",
       "    <tr style=\"text-align: right;\">\n",
       "      <th></th>\n",
       "      <th>Name</th>\n",
       "      <th>Sex</th>\n",
       "      <th>Ticket</th>\n",
       "      <th>Cabin</th>\n",
       "      <th>Embarked</th>\n",
       "    </tr>\n",
       "  </thead>\n",
       "  <tbody>\n",
       "    <tr>\n",
       "      <th>count</th>\n",
       "      <td>891</td>\n",
       "      <td>891</td>\n",
       "      <td>891</td>\n",
       "      <td>204</td>\n",
       "      <td>889</td>\n",
       "    </tr>\n",
       "    <tr>\n",
       "      <th>unique</th>\n",
       "      <td>891</td>\n",
       "      <td>2</td>\n",
       "      <td>681</td>\n",
       "      <td>147</td>\n",
       "      <td>3</td>\n",
       "    </tr>\n",
       "    <tr>\n",
       "      <th>top</th>\n",
       "      <td>Braund, Mr. Owen Harris</td>\n",
       "      <td>male</td>\n",
       "      <td>347082</td>\n",
       "      <td>B96 B98</td>\n",
       "      <td>S</td>\n",
       "    </tr>\n",
       "    <tr>\n",
       "      <th>freq</th>\n",
       "      <td>1</td>\n",
       "      <td>577</td>\n",
       "      <td>7</td>\n",
       "      <td>4</td>\n",
       "      <td>644</td>\n",
       "    </tr>\n",
       "  </tbody>\n",
       "</table>\n",
       "</div>"
      ],
      "text/plain": [
       "                           Name   Sex  Ticket    Cabin Embarked\n",
       "count                       891   891     891      204      889\n",
       "unique                      891     2     681      147        3\n",
       "top     Braund, Mr. Owen Harris  male  347082  B96 B98        S\n",
       "freq                          1   577       7        4      644"
      ]
     },
     "execution_count": 5,
     "metadata": {},
     "output_type": "execute_result"
    }
   ],
   "source": [
    "# Lets have a look at the categorical features\n",
    "train_df.describe(include=['O'])"
   ]
  },
  {
   "cell_type": "markdown",
   "id": "fea003dc",
   "metadata": {
    "papermill": {
     "duration": 0.02335,
     "end_time": "2024-07-03T12:11:39.319809",
     "exception": false,
     "start_time": "2024-07-03T12:11:39.296459",
     "status": "completed"
    },
    "tags": []
   },
   "source": [
    "The summary above provides us with some key information that will come in use later on: <br>\n",
    "- We can see that there are 891 entries in the dataframe <br>\n",
    "- However, the columns `Age`, `Cabin` and `Embarked` have a some values missing <br>\n",
    "    - We can fill in the missing values in `Age` and `Embarked` with median/mean values\n",
    "- From the above we can see the mean of `survived` is 0.38, therefore we already know that <b> 38% of all passengers survived </b>\n",
    "<br>\n",
    "\n",
    "There are a few things we might want to do later:\n",
    "- Create a feature called `FamilySize` based on Parch and SibSP to get a count of family members on board the Titanic\n",
    "- Create a feature called `Title` where we extract the title for each person (Mr, Mrs, Miss etc.)\n",
    "- We can look into age groups"
   ]
  },
  {
   "cell_type": "markdown",
   "id": "5f77a33f",
   "metadata": {
    "papermill": {
     "duration": 0.023402,
     "end_time": "2024-07-03T12:11:39.366833",
     "exception": false,
     "start_time": "2024-07-03T12:11:39.343431",
     "status": "completed"
    },
    "tags": []
   },
   "source": [
    "## Data Visualisation\n",
    "We'll start by creating a simple function that takes in the dataset and a feature we want to analyse as parameters. <br>\n",
    "The function will create a pivot table with the feature as index, and a column to track how many survived\n",
    "\n"
   ]
  },
  {
   "cell_type": "code",
   "execution_count": 6,
   "id": "3292340c",
   "metadata": {
    "execution": {
     "iopub.execute_input": "2024-07-03T12:11:39.416097Z",
     "iopub.status.busy": "2024-07-03T12:11:39.415686Z",
     "iopub.status.idle": "2024-07-03T12:11:39.423322Z",
     "shell.execute_reply": "2024-07-03T12:11:39.422282Z"
    },
    "papermill": {
     "duration": 0.035249,
     "end_time": "2024-07-03T12:11:39.425946",
     "exception": false,
     "start_time": "2024-07-03T12:11:39.390697",
     "status": "completed"
    },
    "tags": []
   },
   "outputs": [],
   "source": [
    "def compute_survival_rate(df, column):\n",
    "    # Create a pivot table to aggregate the counts of survived and not survived passengers\n",
    "    pivot_table = df.pivot_table(\n",
    "        values='PassengerId',\n",
    "        index=column,\n",
    "        columns='Survived',\n",
    "        aggfunc='count',\n",
    "        fill_value=0\n",
    "    ).reset_index()\n",
    "    \n",
    "    # Rename columns for clarity\n",
    "    pivot_table.columns = [column, 'not_survived', 'survived']\n",
    "    \n",
    "    # Calculate the total number of passengers for each category\n",
    "    pivot_table['total_passengers'] = pivot_table['not_survived'] + pivot_table['survived']\n",
    "    \n",
    "    # Calculate the survival rate for each category\n",
    "    pivot_table['survival_rate (%)'] = (pivot_table['survived'] / pivot_table['total_passengers'] * 100)\n",
    "    \n",
    "    # Display the result in markdown format\n",
    "    print(pivot_table.to_markdown(index=False))\n"
   ]
  },
  {
   "cell_type": "markdown",
   "id": "0632ce30",
   "metadata": {
    "papermill": {
     "duration": 0.024219,
     "end_time": "2024-07-03T12:11:39.474734",
     "exception": false,
     "start_time": "2024-07-03T12:11:39.450515",
     "status": "completed"
    },
    "tags": []
   },
   "source": [
    "#### Passenger Class by Survival\n",
    "\n",
    "First we'll look at if a person had a higher or lower chance of survival based on their class. <br>\n",
    "Remember: 1 = Upper Class, 2 = Middle Class, 3 = Lower Class"
   ]
  },
  {
   "cell_type": "code",
   "execution_count": 7,
   "id": "a3a1247c",
   "metadata": {
    "execution": {
     "iopub.execute_input": "2024-07-03T12:11:39.524558Z",
     "iopub.status.busy": "2024-07-03T12:11:39.524117Z",
     "iopub.status.idle": "2024-07-03T12:11:39.580073Z",
     "shell.execute_reply": "2024-07-03T12:11:39.578831Z"
    },
    "papermill": {
     "duration": 0.083954,
     "end_time": "2024-07-03T12:11:39.582874",
     "exception": false,
     "start_time": "2024-07-03T12:11:39.498920",
     "status": "completed"
    },
    "tags": []
   },
   "outputs": [
    {
     "name": "stdout",
     "output_type": "stream",
     "text": [
      "|   Pclass |   not_survived |   survived |   total_passengers |   survival_rate (%) |\n",
      "|---------:|---------------:|-----------:|-------------------:|--------------------:|\n",
      "|        1 |             80 |        136 |                216 |             62.963  |\n",
      "|        2 |             97 |         87 |                184 |             47.2826 |\n",
      "|        3 |            372 |        119 |                491 |             24.2363 |\n"
     ]
    }
   ],
   "source": [
    "# Pivot table to track Pclass\n",
    "compute_survival_rate(train_df, \"Pclass\")"
   ]
  },
  {
   "cell_type": "code",
   "execution_count": 8,
   "id": "d39816e6",
   "metadata": {
    "execution": {
     "iopub.execute_input": "2024-07-03T12:11:39.633453Z",
     "iopub.status.busy": "2024-07-03T12:11:39.632589Z",
     "iopub.status.idle": "2024-07-03T12:11:39.954792Z",
     "shell.execute_reply": "2024-07-03T12:11:39.953558Z"
    },
    "papermill": {
     "duration": 0.350808,
     "end_time": "2024-07-03T12:11:39.957745",
     "exception": false,
     "start_time": "2024-07-03T12:11:39.606937",
     "status": "completed"
    },
    "tags": []
   },
   "outputs": [
    {
     "data": {
      "image/png": "[encoded data removed]",
      "text/plain": [
       "<Figure size 1000x600 with 1 Axes>"
      ]
     },
     "metadata": {},
     "output_type": "display_data"
    }
   ],
   "source": [
    "plt.figure(figsize=(10, 6))\n",
    "\n",
    "# count plot for passenger class, coloured by survival status \n",
    "pclass_plot = sns.countplot(x=\"Pclass\", hue = \"Survived\", data = train_df)\n",
    "\n",
    "for p in pclass_plot.patches:\n",
    "    pclass_plot.annotate(f'{int(p.get_height())}', \n",
    "                         (p.get_x() + p.get_width() / 2., p.get_height()), \n",
    "                         ha='center', va='center', \n",
    "                         xytext=(0, 10), textcoords='offset points', \n",
    "                         fontsize=12)\n",
    "\n",
    "# Title of the plot, as well as x and y labels\n",
    "plt.title('Survival Count by Passenger Class')\n",
    "plt.xlabel('Passenger Class')\n",
    "plt.ylabel('Count')\n",
    "plt.show()"
   ]
  },
  {
   "cell_type": "markdown",
   "id": "bd04ba9e",
   "metadata": {
    "papermill": {
     "duration": 0.024227,
     "end_time": "2024-07-03T12:11:40.006599",
     "exception": false,
     "start_time": "2024-07-03T12:11:39.982372",
     "status": "completed"
    },
    "tags": []
   },
   "source": [
    "#### Results:\n",
    "As shown in the pivot table the survival rate of upper class passengers was higher (63%) than the survival rate of middle(47%) and lower (24%) classed passengers <br>\n",
    "\n",
    "We can do the same with sex"
   ]
  },
  {
   "cell_type": "code",
   "execution_count": 9,
   "id": "eff9ab70",
   "metadata": {
    "execution": {
     "iopub.execute_input": "2024-07-03T12:11:40.057380Z",
     "iopub.status.busy": "2024-07-03T12:11:40.056902Z",
     "iopub.status.idle": "2024-07-03T12:11:40.073213Z",
     "shell.execute_reply": "2024-07-03T12:11:40.071992Z"
    },
    "papermill": {
     "duration": 0.044761,
     "end_time": "2024-07-03T12:11:40.075723",
     "exception": false,
     "start_time": "2024-07-03T12:11:40.030962",
     "status": "completed"
    },
    "tags": []
   },
   "outputs": [
    {
     "name": "stdout",
     "output_type": "stream",
     "text": [
      "| Sex    |   not_survived |   survived |   total_passengers |   survival_rate (%) |\n",
      "|:-------|---------------:|-----------:|-------------------:|--------------------:|\n",
      "| female |             81 |        233 |                314 |             74.2038 |\n",
      "| male   |            468 |        109 |                577 |             18.8908 |\n"
     ]
    }
   ],
   "source": [
    "# Pivot table to track Pclass\n",
    "compute_survival_rate(train_df, \"Sex\")"
   ]
  },
  {
   "cell_type": "code",
   "execution_count": 10,
   "id": "01702dd1",
   "metadata": {
    "execution": {
     "iopub.execute_input": "2024-07-03T12:11:40.126656Z",
     "iopub.status.busy": "2024-07-03T12:11:40.126213Z",
     "iopub.status.idle": "2024-07-03T12:11:40.368679Z",
     "shell.execute_reply": "2024-07-03T12:11:40.367373Z"
    },
    "papermill": {
     "duration": 0.271286,
     "end_time": "2024-07-03T12:11:40.371460",
     "exception": false,
     "start_time": "2024-07-03T12:11:40.100174",
     "status": "completed"
    },
    "tags": []
   },
   "outputs": [
    {
     "data": {
      "image/png": "[encoded data removed]",
      "text/plain": [
       "<Figure size 1000x600 with 1 Axes>"
      ]
     },
     "metadata": {},
     "output_type": "display_data"
    }
   ],
   "source": [
    "# Count plot for Sex\n",
    "plt.figure(figsize=(10, 6))\n",
    "\n",
    "# count plot for sex, coloured by survival status \n",
    "pclass_plot = sns.countplot(x=\"Sex\", hue = \"Survived\", data = train_df)\n",
    "\n",
    "for p in pclass_plot.patches:\n",
    "    pclass_plot.annotate(f'{int(p.get_height())}', \n",
    "                         (p.get_x() + p.get_width() / 2., p.get_height()), \n",
    "                         ha='center', va='center', \n",
    "                         xytext=(0, 10), textcoords='offset points', \n",
    "                         fontsize=12)\n",
    "\n",
    "# Title of the plot, as well as x and y labels\n",
    "plt.title('Survival Count by Sex')\n",
    "plt.xlabel('Sex')\n",
    "plt.ylabel('Count')\n",
    "plt.show()"
   ]
  },
  {
   "cell_type": "markdown",
   "id": "0f4bacf9",
   "metadata": {
    "papermill": {
     "duration": 0.025874,
     "end_time": "2024-07-03T12:11:40.422634",
     "exception": false,
     "start_time": "2024-07-03T12:11:40.396760",
     "status": "completed"
    },
    "tags": []
   },
   "source": [
    "#### __Results:__\n",
    "From the pivote table we can see that __74%__ of females survived compared to the __18%__ of males who survived <br>"
   ]
  },
  {
   "cell_type": "markdown",
   "id": "a6adced6",
   "metadata": {
    "papermill": {
     "duration": 0.024652,
     "end_time": "2024-07-03T12:11:40.531859",
     "exception": false,
     "start_time": "2024-07-03T12:11:40.507207",
     "status": "completed"
    },
    "tags": []
   },
   "source": [
    "#### Age Distribution by Survival\n",
    "Understanding the age distribution of passengers who survived versus those who didn't can reveal patterns, such as whether children were more likely to survive."
   ]
  },
  {
   "cell_type": "code",
   "execution_count": 11,
   "id": "d30bd492",
   "metadata": {
    "execution": {
     "iopub.execute_input": "2024-07-03T12:11:40.585167Z",
     "iopub.status.busy": "2024-07-03T12:11:40.584775Z",
     "iopub.status.idle": "2024-07-03T12:11:41.040621Z",
     "shell.execute_reply": "2024-07-03T12:11:41.039394Z"
    },
    "papermill": {
     "duration": 0.486366,
     "end_time": "2024-07-03T12:11:41.043132",
     "exception": false,
     "start_time": "2024-07-03T12:11:40.556766",
     "status": "completed"
    },
    "tags": []
   },
   "outputs": [
    {
     "data": {
      "image/png": "[encoded data removed]",
      "text/plain": [
       "<Figure size 1000x600 with 1 Axes>"
      ]
     },
     "metadata": {},
     "output_type": "display_data"
    }
   ],
   "source": [
    "plt.figure(figsize=(10, 6))\n",
    "sns.histplot(data=train_df, x='Age', hue='Survived', multiple='stack', kde=False)\n",
    "plt.title('Age Distribution by Survival')\n",
    "plt.xlabel('Age')\n",
    "plt.ylabel('Count')\n",
    "plt.show()"
   ]
  },
  {
   "cell_type": "markdown",
   "id": "54873941",
   "metadata": {
    "papermill": {
     "duration": 0.026226,
     "end_time": "2024-07-03T12:11:41.095818",
     "exception": false,
     "start_time": "2024-07-03T12:11:41.069592",
     "status": "completed"
    },
    "tags": []
   },
   "source": [
    "#### Sibling/Spouse Distribution by Survival\n"
   ]
  },
  {
   "cell_type": "code",
   "execution_count": 12,
   "id": "b93f2d0d",
   "metadata": {
    "execution": {
     "iopub.execute_input": "2024-07-03T12:11:41.148685Z",
     "iopub.status.busy": "2024-07-03T12:11:41.148240Z",
     "iopub.status.idle": "2024-07-03T12:11:41.165336Z",
     "shell.execute_reply": "2024-07-03T12:11:41.163872Z"
    },
    "papermill": {
     "duration": 0.046784,
     "end_time": "2024-07-03T12:11:41.168022",
     "exception": false,
     "start_time": "2024-07-03T12:11:41.121238",
     "status": "completed"
    },
    "tags": []
   },
   "outputs": [
    {
     "name": "stdout",
     "output_type": "stream",
     "text": [
      "|   SibSp |   not_survived |   survived |   total_passengers |   survival_rate (%) |\n",
      "|--------:|---------------:|-----------:|-------------------:|--------------------:|\n",
      "|       0 |            398 |        210 |                608 |             34.5395 |\n",
      "|       1 |             97 |        112 |                209 |             53.5885 |\n",
      "|       2 |             15 |         13 |                 28 |             46.4286 |\n",
      "|       3 |             12 |          4 |                 16 |             25      |\n",
      "|       4 |             15 |          3 |                 18 |             16.6667 |\n",
      "|       5 |              5 |          0 |                  5 |              0      |\n",
      "|       8 |              7 |          0 |                  7 |              0      |\n"
     ]
    }
   ],
   "source": [
    "compute_survival_rate(train_df, \"SibSp\")"
   ]
  },
  {
   "cell_type": "code",
   "execution_count": 13,
   "id": "ba1e8ac6",
   "metadata": {
    "execution": {
     "iopub.execute_input": "2024-07-03T12:11:41.223543Z",
     "iopub.status.busy": "2024-07-03T12:11:41.223110Z",
     "iopub.status.idle": "2024-07-03T12:11:41.659780Z",
     "shell.execute_reply": "2024-07-03T12:11:41.658621Z"
    },
    "papermill": {
     "duration": 0.466969,
     "end_time": "2024-07-03T12:11:41.662585",
     "exception": false,
     "start_time": "2024-07-03T12:11:41.195616",
     "status": "completed"
    },
    "tags": []
   },
   "outputs": [
    {
     "data": {
      "image/png": "[encoded data removed]",
      "text/plain": [
       "<Figure size 1000x600 with 1 Axes>"
      ]
     },
     "metadata": {},
     "output_type": "display_data"
    }
   ],
   "source": [
    "plt.figure(figsize=(10, 6))\n",
    "embarked_plot = sns.countplot(x='SibSp', hue='Survived', data=train_df)\n",
    "\n",
    "for p in embarked_plot.patches:\n",
    "    embarked_plot.annotate(f'{int(p.get_height())}', \n",
    "                           (p.get_x() + p.get_width() / 2., p.get_height()), \n",
    "                           ha='center', va='center', xytext=(0, 10), \n",
    "                           textcoords='offset points', \n",
    "                           fontsize=12)\n",
    "\n",
    "plt.title('Survival Count by # Siblings/Spouses')\n",
    "plt.xlabel('SibSP')\n",
    "plt.ylabel('Count')\n",
    "plt.show()"
   ]
  },
  {
   "cell_type": "markdown",
   "id": "c61e3ae2",
   "metadata": {
    "papermill": {
     "duration": 0.025564,
     "end_time": "2024-07-03T12:11:41.714457",
     "exception": false,
     "start_time": "2024-07-03T12:11:41.688893",
     "status": "completed"
    },
    "tags": []
   },
   "source": [
    "#### Parent/Child Distribution by Survival\n"
   ]
  },
  {
   "cell_type": "code",
   "execution_count": 14,
   "id": "527bc6a5",
   "metadata": {
    "execution": {
     "iopub.execute_input": "2024-07-03T12:11:41.769191Z",
     "iopub.status.busy": "2024-07-03T12:11:41.768219Z",
     "iopub.status.idle": "2024-07-03T12:11:41.785341Z",
     "shell.execute_reply": "2024-07-03T12:11:41.784095Z"
    },
    "papermill": {
     "duration": 0.047548,
     "end_time": "2024-07-03T12:11:41.788105",
     "exception": false,
     "start_time": "2024-07-03T12:11:41.740557",
     "status": "completed"
    },
    "tags": []
   },
   "outputs": [
    {
     "name": "stdout",
     "output_type": "stream",
     "text": [
      "|   Parch |   not_survived |   survived |   total_passengers |   survival_rate (%) |\n",
      "|--------:|---------------:|-----------:|-------------------:|--------------------:|\n",
      "|       0 |            445 |        233 |                678 |             34.3658 |\n",
      "|       1 |             53 |         65 |                118 |             55.0847 |\n",
      "|       2 |             40 |         40 |                 80 |             50      |\n",
      "|       3 |              2 |          3 |                  5 |             60      |\n",
      "|       4 |              4 |          0 |                  4 |              0      |\n",
      "|       5 |              4 |          1 |                  5 |             20      |\n",
      "|       6 |              1 |          0 |                  1 |              0      |\n"
     ]
    }
   ],
   "source": [
    "compute_survival_rate(train_df, \"Parch\")"
   ]
  },
  {
   "cell_type": "code",
   "execution_count": 15,
   "id": "d4c396b7",
   "metadata": {
    "execution": {
     "iopub.execute_input": "2024-07-03T12:11:41.842954Z",
     "iopub.status.busy": "2024-07-03T12:11:41.842570Z",
     "iopub.status.idle": "2024-07-03T12:11:42.180338Z",
     "shell.execute_reply": "2024-07-03T12:11:42.179202Z"
    },
    "papermill": {
     "duration": 0.368185,
     "end_time": "2024-07-03T12:11:42.182983",
     "exception": false,
     "start_time": "2024-07-03T12:11:41.814798",
     "status": "completed"
    },
    "tags": []
   },
   "outputs": [
    {
     "data": {
      "image/png": "[encoded data removed]",
      "text/plain": [
       "<Figure size 1000x600 with 1 Axes>"
      ]
     },
     "metadata": {},
     "output_type": "display_data"
    }
   ],
   "source": [
    "plt.figure(figsize=(10, 6))\n",
    "embarked_plot = sns.countplot(x='Parch', hue='Survived', data=train_df)\n",
    "\n",
    "for p in embarked_plot.patches:\n",
    "    embarked_plot.annotate(f'{int(p.get_height())}', \n",
    "                           (p.get_x() + p.get_width() / 2., p.get_height()), \n",
    "                           ha='center', va='center', xytext=(0, 10), \n",
    "                           textcoords='offset points', \n",
    "                           fontsize=12)\n",
    "\n",
    "plt.title('Survival Count by # Parent/Child')\n",
    "plt.xlabel('Parch')\n",
    "plt.ylabel('Count')\n",
    "plt.show()"
   ]
  },
  {
   "cell_type": "markdown",
   "id": "91133ab9",
   "metadata": {
    "papermill": {
     "duration": 0.029528,
     "end_time": "2024-07-03T12:11:42.239546",
     "exception": false,
     "start_time": "2024-07-03T12:11:42.210018",
     "status": "completed"
    },
    "tags": []
   },
   "source": [
    "#### Fare Distribution by Survival\n",
    "Exploring the distribution of fares among survivors and non-survivors might indicate whether passengers who paid more had a higher chance of survival."
   ]
  },
  {
   "cell_type": "code",
   "execution_count": 16,
   "id": "798b172c",
   "metadata": {
    "execution": {
     "iopub.execute_input": "2024-07-03T12:11:42.307650Z",
     "iopub.status.busy": "2024-07-03T12:11:42.307175Z",
     "iopub.status.idle": "2024-07-03T12:11:43.106235Z",
     "shell.execute_reply": "2024-07-03T12:11:43.105045Z"
    },
    "papermill": {
     "duration": 0.835044,
     "end_time": "2024-07-03T12:11:43.108983",
     "exception": false,
     "start_time": "2024-07-03T12:11:42.273939",
     "status": "completed"
    },
    "tags": []
   },
   "outputs": [
    {
     "data": {
      "image/png": "[encoded data removed]",
      "text/plain": [
       "<Figure size 1000x600 with 1 Axes>"
      ]
     },
     "metadata": {},
     "output_type": "display_data"
    }
   ],
   "source": [
    "plt.figure(figsize=(10,6))\n",
    "sns.histplot(data=train_df, x=\"Fare\", hue =\"Survived\", multiple=\"stack\", kde=False)\n",
    "plt.title(\"Fare Distribution by Survival\")\n",
    "plt.xlabel(\"Fare\")\n",
    "plt.ylabel(\"Count\")\n",
    "plt.show()"
   ]
  },
  {
   "cell_type": "markdown",
   "id": "18fd75c6",
   "metadata": {
    "papermill": {
     "duration": 0.027098,
     "end_time": "2024-07-03T12:11:43.166168",
     "exception": false,
     "start_time": "2024-07-03T12:11:43.139070",
     "status": "completed"
    },
    "tags": []
   },
   "source": [
    "#### __Results__ \n",
    "Based on the chart above we can see that passengers who paid higher fares had a higher survival rate. This could be due to the correlation between fare and class, where higher-paying passengers were in higher classes and had better access to lifeboats.\n",
    "\n",
    "Conversely, passengers who paid lower fares generally had lower survival rates, likely because they were in lower classes with less access to lifeboats."
   ]
  },
  {
   "cell_type": "markdown",
   "id": "0f72c0dc",
   "metadata": {
    "papermill": {
     "duration": 0.027141,
     "end_time": "2024-07-03T12:11:43.220741",
     "exception": false,
     "start_time": "2024-07-03T12:11:43.193600",
     "status": "completed"
    },
    "tags": []
   },
   "source": [
    "#### Embarked vs. Survival\n",
    "Visualizing the survival rate based on the port of embarkation can highlight if there were significant differences in survival rates based on where passengers boarded the ship."
   ]
  },
  {
   "cell_type": "code",
   "execution_count": 17,
   "id": "d6192ed5",
   "metadata": {
    "execution": {
     "iopub.execute_input": "2024-07-03T12:11:43.278414Z",
     "iopub.status.busy": "2024-07-03T12:11:43.278021Z",
     "iopub.status.idle": "2024-07-03T12:11:43.294562Z",
     "shell.execute_reply": "2024-07-03T12:11:43.293328Z"
    },
    "papermill": {
     "duration": 0.049207,
     "end_time": "2024-07-03T12:11:43.297273",
     "exception": false,
     "start_time": "2024-07-03T12:11:43.248066",
     "status": "completed"
    },
    "tags": []
   },
   "outputs": [
    {
     "name": "stdout",
     "output_type": "stream",
     "text": [
      "| Embarked   |   not_survived |   survived |   total_passengers |   survival_rate (%) |\n",
      "|:-----------|---------------:|-----------:|-------------------:|--------------------:|\n",
      "| C          |             75 |         93 |                168 |             55.3571 |\n",
      "| Q          |             47 |         30 |                 77 |             38.961  |\n",
      "| S          |            427 |        217 |                644 |             33.6957 |\n"
     ]
    }
   ],
   "source": [
    "compute_survival_rate(train_df, \"Embarked\")"
   ]
  },
  {
   "cell_type": "code",
   "execution_count": 18,
   "id": "7a2722af",
   "metadata": {
    "execution": {
     "iopub.execute_input": "2024-07-03T12:11:43.354438Z",
     "iopub.status.busy": "2024-07-03T12:11:43.354018Z",
     "iopub.status.idle": "2024-07-03T12:11:43.657081Z",
     "shell.execute_reply": "2024-07-03T12:11:43.656008Z"
    },
    "papermill": {
     "duration": 0.334989,
     "end_time": "2024-07-03T12:11:43.659928",
     "exception": false,
     "start_time": "2024-07-03T12:11:43.324939",
     "status": "completed"
    },
    "tags": []
   },
   "outputs": [
    {
     "data": {
      "image/png": "[encoded data removed]",
      "text/plain": [
       "<Figure size 1000x600 with 1 Axes>"
      ]
     },
     "metadata": {},
     "output_type": "display_data"
    }
   ],
   "source": [
    "plt.figure(figsize=(10, 6))\n",
    "embarked_plot = sns.countplot(x='Embarked', hue='Survived', data=train_df)\n",
    "\n",
    "for p in embarked_plot.patches:\n",
    "    embarked_plot.annotate(f'{int(p.get_height())}', \n",
    "                           (p.get_x() + p.get_width() / 2., p.get_height()), \n",
    "                           ha='center', va='center', xytext=(0, 10), \n",
    "                           textcoords='offset points', \n",
    "                           fontsize=12)\n",
    "\n",
    "plt.title('Survival Count by Port of Embarkation')\n",
    "plt.xlabel('Port of Embarkation')\n",
    "plt.ylabel('Count')\n",
    "plt.show()"
   ]
  },
  {
   "cell_type": "markdown",
   "id": "06cf0783",
   "metadata": {
    "papermill": {
     "duration": 0.027897,
     "end_time": "2024-07-03T12:11:43.716094",
     "exception": false,
     "start_time": "2024-07-03T12:11:43.688197",
     "status": "completed"
    },
    "tags": []
   },
   "source": [
    "#### __Results__\n",
    "- (Cherbourg): Passengers who embarked from Cherbourg have a higher survival rate compared to those from other ports. This might be because Cherbourg had more passengers from higher classes who had better access to lifeboats.\n",
    "- (Queenstown): Passengers from Queenstown have a lower survival rate. This might be attributed to a larger number of third-class passengers embarking from this port.\n",
    "-(Southampton): The largest number of passengers embarked from Southampton. The survival rate here shows a mix, but it tends to be lower compared to Cherbourg.\n",
    "\n",
    "The pivot table above also shows that passengers from Cherbourg had a __55%__ survival rate compared to Queenstown's __38%__ and Southampton's __33%__"
   ]
  },
  {
   "cell_type": "markdown",
   "id": "457a74cc",
   "metadata": {
    "papermill": {
     "duration": 0.027919,
     "end_time": "2024-07-03T12:11:43.772099",
     "exception": false,
     "start_time": "2024-07-03T12:11:43.744180",
     "status": "completed"
    },
    "tags": []
   },
   "source": [
    "## Data Cleansing & Feature Engineering\n",
    "Let's start by checking for missing values"
   ]
  },
  {
   "cell_type": "code",
   "execution_count": 19,
   "id": "525f17a0",
   "metadata": {
    "execution": {
     "iopub.execute_input": "2024-07-03T12:11:43.831544Z",
     "iopub.status.busy": "2024-07-03T12:11:43.831111Z",
     "iopub.status.idle": "2024-07-03T12:11:43.841960Z",
     "shell.execute_reply": "2024-07-03T12:11:43.840687Z"
    },
    "papermill": {
     "duration": 0.043502,
     "end_time": "2024-07-03T12:11:43.844556",
     "exception": false,
     "start_time": "2024-07-03T12:11:43.801054",
     "status": "completed"
    },
    "tags": []
   },
   "outputs": [
    {
     "name": "stdout",
     "output_type": "stream",
     "text": [
      "PassengerId      0\n",
      "Survived         0\n",
      "Pclass           0\n",
      "Name             0\n",
      "Sex              0\n",
      "Age            177\n",
      "SibSp            0\n",
      "Parch            0\n",
      "Ticket           0\n",
      "Fare             0\n",
      "Cabin          687\n",
      "Embarked         2\n",
      "dtype: int64\n",
      "--------------------\n",
      "PassengerId      0\n",
      "Pclass           0\n",
      "Name             0\n",
      "Sex              0\n",
      "Age             86\n",
      "SibSp            0\n",
      "Parch            0\n",
      "Ticket           0\n",
      "Fare             1\n",
      "Cabin          327\n",
      "Embarked         0\n",
      "dtype: int64\n"
     ]
    }
   ],
   "source": [
    "print(train_df.isnull().sum())\n",
    "print(\"-\" * 20)\n",
    "print(test_df.isnull().sum())"
   ]
  },
  {
   "cell_type": "markdown",
   "id": "473008c1",
   "metadata": {
    "papermill": {
     "duration": 0.029062,
     "end_time": "2024-07-03T12:11:43.902013",
     "exception": false,
     "start_time": "2024-07-03T12:11:43.872951",
     "status": "completed"
    },
    "tags": []
   },
   "source": [
    "Based on the above information, we could potentially drop `Cabin` column from both the training and testing dataset, as we most likely wont have any need for it. <br> \n",
    "Before we do that, we'll create a new column called `Cabin_Assigned` and assign either a 0 or 1 based on if the passenger had a cabin or not.<br>\n",
    "We're not going to drop `Age` as there are ways to fill in those values but we'll come to that later"
   ]
  },
  {
   "cell_type": "code",
   "execution_count": 20,
   "id": "1033b3a8",
   "metadata": {
    "execution": {
     "iopub.execute_input": "2024-07-03T12:11:43.960596Z",
     "iopub.status.busy": "2024-07-03T12:11:43.960149Z",
     "iopub.status.idle": "2024-07-03T12:11:43.978070Z",
     "shell.execute_reply": "2024-07-03T12:11:43.976809Z"
    },
    "papermill": {
     "duration": 0.050155,
     "end_time": "2024-07-03T12:11:43.980555",
     "exception": false,
     "start_time": "2024-07-03T12:11:43.930400",
     "status": "completed"
    },
    "tags": []
   },
   "outputs": [
    {
     "name": "stdout",
     "output_type": "stream",
     "text": [
      "|   Cabin_Assigned |   not_survived |   survived |   total_passengers |   survival_rate (%) |\n",
      "|-----------------:|---------------:|-----------:|-------------------:|--------------------:|\n",
      "|                0 |            481 |        206 |                687 |             29.9854 |\n",
      "|                1 |             68 |        136 |                204 |             66.6667 |\n"
     ]
    }
   ],
   "source": [
    "train_df['Cabin_Assigned'] = train_df['Cabin'].notnull().astype(int)\n",
    "test_df['Cabin_Assigned'] = test_df['Cabin'].notnull().astype(int)\n",
    "compute_survival_rate(train_df, \"Cabin_Assigned\")"
   ]
  },
  {
   "cell_type": "code",
   "execution_count": 21,
   "id": "a03e2b9a",
   "metadata": {
    "execution": {
     "iopub.execute_input": "2024-07-03T12:11:44.039722Z",
     "iopub.status.busy": "2024-07-03T12:11:44.039277Z",
     "iopub.status.idle": "2024-07-03T12:11:44.047116Z",
     "shell.execute_reply": "2024-07-03T12:11:44.045969Z"
    },
    "papermill": {
     "duration": 0.040206,
     "end_time": "2024-07-03T12:11:44.049519",
     "exception": false,
     "start_time": "2024-07-03T12:11:44.009313",
     "status": "completed"
    },
    "tags": []
   },
   "outputs": [],
   "source": [
    "# Dropping cabin as we dont need it anymore \n",
    "train_df = train_df.drop(['Cabin'], axis = 1)\n",
    "test_df = test_df.drop(['Cabin'], axis = 1)"
   ]
  },
  {
   "cell_type": "markdown",
   "id": "d1f16378",
   "metadata": {
    "papermill": {
     "duration": 0.028399,
     "end_time": "2024-07-03T12:11:44.106340",
     "exception": false,
     "start_time": "2024-07-03T12:11:44.077941",
     "status": "completed"
    },
    "tags": []
   },
   "source": [
    "#### Missing Embarked values\n",
    "Having a quick look at `Embarked`. We're only missing two values from the training data set. <br> \n",
    "Earlier we saw that the majority of passengers (644) embarked from Southampton (S). <br>\n",
    "Let's go ahead and fill in the missing values with `S`\n",
    "<br>"
   ]
  },
  {
   "cell_type": "code",
   "execution_count": 22,
   "id": "c9f80e8f",
   "metadata": {
    "execution": {
     "iopub.execute_input": "2024-07-03T12:11:44.165541Z",
     "iopub.status.busy": "2024-07-03T12:11:44.165059Z",
     "iopub.status.idle": "2024-07-03T12:11:44.172639Z",
     "shell.execute_reply": "2024-07-03T12:11:44.171441Z"
    },
    "papermill": {
     "duration": 0.040174,
     "end_time": "2024-07-03T12:11:44.175204",
     "exception": false,
     "start_time": "2024-07-03T12:11:44.135030",
     "status": "completed"
    },
    "tags": []
   },
   "outputs": [],
   "source": [
    "# replace missing embarked values with S\n",
    "train_df = train_df.fillna({\"Embarked\": \"S\"})"
   ]
  },
  {
   "cell_type": "markdown",
   "id": "2e238a63",
   "metadata": {
    "papermill": {
     "duration": 0.028229,
     "end_time": "2024-07-03T12:11:44.232195",
     "exception": false,
     "start_time": "2024-07-03T12:11:44.203966",
     "status": "completed"
    },
    "tags": []
   },
   "source": [
    "### Title Extraction\n",
    "Here we'll create a new column that only contains the `Title` for each person in the dataset. <br>\n",
    "This will be done for both the training and testing datasets <br>\n",
    "We can probably drop the `Name` column later on as it wont be of any use to us when we train and test our model"
   ]
  },
  {
   "cell_type": "code",
   "execution_count": 23,
   "id": "ed3a4c96",
   "metadata": {
    "execution": {
     "iopub.execute_input": "2024-07-03T12:11:44.292533Z",
     "iopub.status.busy": "2024-07-03T12:11:44.292074Z",
     "iopub.status.idle": "2024-07-03T12:11:44.316418Z",
     "shell.execute_reply": "2024-07-03T12:11:44.315316Z"
    },
    "papermill": {
     "duration": 0.058323,
     "end_time": "2024-07-03T12:11:44.319119",
     "exception": false,
     "start_time": "2024-07-03T12:11:44.260796",
     "status": "completed"
    },
    "tags": []
   },
   "outputs": [
    {
     "data": {
      "text/html": [
       "<div>\n",
       "<style scoped>\n",
       "    .dataframe tbody tr th:only-of-type {\n",
       "        vertical-align: middle;\n",
       "    }\n",
       "\n",
       "    .dataframe tbody tr th {\n",
       "        vertical-align: top;\n",
       "    }\n",
       "\n",
       "    .dataframe thead th {\n",
       "        text-align: right;\n",
       "    }\n",
       "</style>\n",
       "<table border=\"1\" class=\"dataframe\">\n",
       "  <thead>\n",
       "    <tr style=\"text-align: right;\">\n",
       "      <th></th>\n",
       "      <th>Title</th>\n",
       "      <th>Survived</th>\n",
       "    </tr>\n",
       "  </thead>\n",
       "  <tbody>\n",
       "    <tr>\n",
       "      <th>0</th>\n",
       "      <td>Capt</td>\n",
       "      <td>0.000000</td>\n",
       "    </tr>\n",
       "    <tr>\n",
       "      <th>1</th>\n",
       "      <td>Col</td>\n",
       "      <td>0.500000</td>\n",
       "    </tr>\n",
       "    <tr>\n",
       "      <th>2</th>\n",
       "      <td>Countess</td>\n",
       "      <td>1.000000</td>\n",
       "    </tr>\n",
       "    <tr>\n",
       "      <th>3</th>\n",
       "      <td>Don</td>\n",
       "      <td>0.000000</td>\n",
       "    </tr>\n",
       "    <tr>\n",
       "      <th>4</th>\n",
       "      <td>Dr</td>\n",
       "      <td>0.428571</td>\n",
       "    </tr>\n",
       "    <tr>\n",
       "      <th>5</th>\n",
       "      <td>Jonkheer</td>\n",
       "      <td>0.000000</td>\n",
       "    </tr>\n",
       "    <tr>\n",
       "      <th>6</th>\n",
       "      <td>Lady</td>\n",
       "      <td>1.000000</td>\n",
       "    </tr>\n",
       "    <tr>\n",
       "      <th>7</th>\n",
       "      <td>Major</td>\n",
       "      <td>0.500000</td>\n",
       "    </tr>\n",
       "    <tr>\n",
       "      <th>8</th>\n",
       "      <td>Master</td>\n",
       "      <td>0.575000</td>\n",
       "    </tr>\n",
       "    <tr>\n",
       "      <th>9</th>\n",
       "      <td>Miss</td>\n",
       "      <td>0.697802</td>\n",
       "    </tr>\n",
       "    <tr>\n",
       "      <th>10</th>\n",
       "      <td>Mlle</td>\n",
       "      <td>1.000000</td>\n",
       "    </tr>\n",
       "    <tr>\n",
       "      <th>11</th>\n",
       "      <td>Mme</td>\n",
       "      <td>1.000000</td>\n",
       "    </tr>\n",
       "    <tr>\n",
       "      <th>12</th>\n",
       "      <td>Mr</td>\n",
       "      <td>0.156673</td>\n",
       "    </tr>\n",
       "    <tr>\n",
       "      <th>13</th>\n",
       "      <td>Mrs</td>\n",
       "      <td>0.792000</td>\n",
       "    </tr>\n",
       "    <tr>\n",
       "      <th>14</th>\n",
       "      <td>Ms</td>\n",
       "      <td>1.000000</td>\n",
       "    </tr>\n",
       "    <tr>\n",
       "      <th>15</th>\n",
       "      <td>Rev</td>\n",
       "      <td>0.000000</td>\n",
       "    </tr>\n",
       "    <tr>\n",
       "      <th>16</th>\n",
       "      <td>Sir</td>\n",
       "      <td>1.000000</td>\n",
       "    </tr>\n",
       "  </tbody>\n",
       "</table>\n",
       "</div>"
      ],
      "text/plain": [
       "       Title  Survived\n",
       "0       Capt  0.000000\n",
       "1        Col  0.500000\n",
       "2   Countess  1.000000\n",
       "3        Don  0.000000\n",
       "4         Dr  0.428571\n",
       "5   Jonkheer  0.000000\n",
       "6       Lady  1.000000\n",
       "7      Major  0.500000\n",
       "8     Master  0.575000\n",
       "9       Miss  0.697802\n",
       "10      Mlle  1.000000\n",
       "11       Mme  1.000000\n",
       "12        Mr  0.156673\n",
       "13       Mrs  0.792000\n",
       "14        Ms  1.000000\n",
       "15       Rev  0.000000\n",
       "16       Sir  1.000000"
      ]
     },
     "execution_count": 23,
     "metadata": {},
     "output_type": "execute_result"
    }
   ],
   "source": [
    "train_df['Title'] = train_df['Name'].str.extract('([A-Za-z]+)\\.', expand=False)\n",
    "test_df['Title'] = test_df['Name'].str.extract('([A-Za-z]+)\\.', expand=False)\n",
    "train_df.groupby(['Title'], as_index=False)['Survived'].mean()"
   ]
  },
  {
   "cell_type": "code",
   "execution_count": 24,
   "id": "725512bb",
   "metadata": {
    "execution": {
     "iopub.execute_input": "2024-07-03T12:11:44.378683Z",
     "iopub.status.busy": "2024-07-03T12:11:44.378246Z",
     "iopub.status.idle": "2024-07-03T12:11:44.393952Z",
     "shell.execute_reply": "2024-07-03T12:11:44.392986Z"
    },
    "papermill": {
     "duration": 0.048728,
     "end_time": "2024-07-03T12:11:44.396665",
     "exception": false,
     "start_time": "2024-07-03T12:11:44.347937",
     "status": "completed"
    },
    "tags": []
   },
   "outputs": [],
   "source": [
    "# Replace titles with more common names, for both training and test set\n",
    "train_df['Title'] = train_df['Title'].replace({\n",
    "    'Lady' : 'Rare',\n",
    "    'Capt' : 'Rare',\n",
    "    'Col' : 'Rare',\n",
    "    'Don' : 'Rare',\n",
    "    'Dr' : 'Rare',\n",
    "    'Major' : 'Rare',\n",
    "    'Rev' : 'Rare',\n",
    "    'Jonkheer' : 'Rare',\n",
    "    'Dona' : 'Rare',\n",
    "    'Countess' : 'Royal',\n",
    "    'Lady' : 'Royal',\n",
    "    'Sir' : 'Royal',\n",
    "    'Mlle' : 'Miss',\n",
    "    'Ms' : 'Miss',\n",
    "    'Mme' : 'Mrs',})\n",
    "\n",
    "test_df['Title'] = test_df['Title'].replace({\n",
    "    'Lady' : 'Rare',\n",
    "    'Capt' : 'Rare',\n",
    "    'Col' : 'Rare',\n",
    "    'Don' : 'Rare',\n",
    "    'Dr' : 'Rare',\n",
    "    'Major' : 'Rare',\n",
    "    'Rev' : 'Rare',\n",
    "    'Jonkheer' : 'Rare',\n",
    "    'Dona' : 'Rare',\n",
    "    'Countess' : 'Royal',\n",
    "    'Lady' : 'Royal',\n",
    "    'Sir' : 'Royal',\n",
    "    'Mlle' : 'Miss',\n",
    "    'Ms' : 'Miss',\n",
    "    'Mme' : 'Mrs',})"
   ]
  },
  {
   "cell_type": "code",
   "execution_count": 25,
   "id": "9ac7c882",
   "metadata": {
    "execution": {
     "iopub.execute_input": "2024-07-03T12:11:44.456725Z",
     "iopub.status.busy": "2024-07-03T12:11:44.456305Z",
     "iopub.status.idle": "2024-07-03T12:11:44.472094Z",
     "shell.execute_reply": "2024-07-03T12:11:44.470811Z"
    },
    "papermill": {
     "duration": 0.048685,
     "end_time": "2024-07-03T12:11:44.474358",
     "exception": false,
     "start_time": "2024-07-03T12:11:44.425673",
     "status": "completed"
    },
    "tags": []
   },
   "outputs": [],
   "source": [
    "# Creating a feature for Family Size (for both data sets)\n",
    "train_df['Family_Size'] = train_df['SibSp'] + train_df['Parch'] + 1\n",
    "test_df['Family_Size'] = test_df['SibSp'] + train_df['Parch'] + 1\n",
    "\n",
    "train_df['Family_Size'] = train_df['SibSp'] + train_df['Parch'] + 1\n",
    "test_df['Family_Size'] = test_df['SibSp'] + train_df['Parch'] + 1\n"
   ]
  },
  {
   "cell_type": "code",
   "execution_count": 26,
   "id": "3ed3ed42",
   "metadata": {
    "execution": {
     "iopub.execute_input": "2024-07-03T12:11:44.535222Z",
     "iopub.status.busy": "2024-07-03T12:11:44.534821Z",
     "iopub.status.idle": "2024-07-03T12:11:44.544124Z",
     "shell.execute_reply": "2024-07-03T12:11:44.542869Z"
    },
    "papermill": {
     "duration": 0.04291,
     "end_time": "2024-07-03T12:11:44.546704",
     "exception": false,
     "start_time": "2024-07-03T12:11:44.503794",
     "status": "completed"
    },
    "tags": []
   },
   "outputs": [],
   "source": [
    "# Creating a feature that tracks if a person was travelling alone or not\n",
    "train_df['isAlone'] = train_df['Family_Size'] == 1\n",
    "test_df['isAlone'] = test_df['Family_Size'] == 1\n",
    "\n",
    "# Convert boolean to integer (optional, for model compatibility)\n",
    "train_df['isAlone'] = train_df['isAlone'].astype(int)\n",
    "test_df['isAlone'] = test_df['isAlone'].astype(int)"
   ]
  },
  {
   "cell_type": "code",
   "execution_count": 27,
   "id": "344eeecd",
   "metadata": {
    "execution": {
     "iopub.execute_input": "2024-07-03T12:11:44.607346Z",
     "iopub.status.busy": "2024-07-03T12:11:44.606903Z",
     "iopub.status.idle": "2024-07-03T12:11:44.621695Z",
     "shell.execute_reply": "2024-07-03T12:11:44.620453Z"
    },
    "papermill": {
     "duration": 0.047992,
     "end_time": "2024-07-03T12:11:44.624067",
     "exception": false,
     "start_time": "2024-07-03T12:11:44.576075",
     "status": "completed"
    },
    "tags": []
   },
   "outputs": [],
   "source": [
    "# Lets start converting categorical variables into numerical\n",
    "\n",
    "# Embarked to Numerical\n",
    "train_df['Embarked'] = train_df['Embarked'].map({'C':0, 'Q':1, 'S': 2})\n",
    "test_df['Embarked'] = test_df['Embarked'].map({'C':0, 'Q':1, 'S': 2})\n",
    "\n",
    "# Sex to Numerical\n",
    "train_df['Sex'] = train_df['Sex'].map({'male':0, 'female':1})\n",
    "test_df['Sex'] = test_df['Sex'].map({'male':0, 'female':1})\n",
    "\n",
    "# Titles to Numerical\n",
    "title_mapping = {\"Mr\": 1, \"Miss\": 2, \"Mrs\": 3, \"Master\": 4, \"Royal\": 5, \"Rare\": 6}\n",
    "train_df['Title'] = train_df['Title'].map(title_mapping)\n",
    "test_df['Title'] = test_df['Title'].map(title_mapping)"
   ]
  },
  {
   "cell_type": "markdown",
   "id": "2b7cc7e1",
   "metadata": {
    "papermill": {
     "duration": 0.028275,
     "end_time": "2024-07-03T12:11:44.681173",
     "exception": false,
     "start_time": "2024-07-03T12:11:44.652898",
     "status": "completed"
    },
    "tags": []
   },
   "source": [
    "We still have a lot of values missing in the `Age` column. There are a few ways we can go about filling in these missing values:\n",
    "- Using Mean/Median or Mode \n",
    "- Impute based on known relationships (Titles)\n",
    "- Use an ML algorithm to predict missing ages based on features such as gender, class and fare\n",
    "\n",
    "\n",
    "Now lets fill in the missing values. for the sake of this challenge well keep it simple, impute it based on the mean age <br>\n",
    "Well also fill in the missing `Fare` value in our test dataset"
   ]
  },
  {
   "cell_type": "code",
   "execution_count": 28,
   "id": "41398960",
   "metadata": {
    "execution": {
     "iopub.execute_input": "2024-07-03T12:11:44.739970Z",
     "iopub.status.busy": "2024-07-03T12:11:44.739549Z",
     "iopub.status.idle": "2024-07-03T12:11:44.769176Z",
     "shell.execute_reply": "2024-07-03T12:11:44.767949Z"
    },
    "papermill": {
     "duration": 0.06217,
     "end_time": "2024-07-03T12:11:44.771994",
     "exception": false,
     "start_time": "2024-07-03T12:11:44.709824",
     "status": "completed"
    },
    "tags": []
   },
   "outputs": [
    {
     "data": {
      "text/html": [
       "<div>\n",
       "<style scoped>\n",
       "    .dataframe tbody tr th:only-of-type {\n",
       "        vertical-align: middle;\n",
       "    }\n",
       "\n",
       "    .dataframe tbody tr th {\n",
       "        vertical-align: top;\n",
       "    }\n",
       "\n",
       "    .dataframe thead th {\n",
       "        text-align: right;\n",
       "    }\n",
       "</style>\n",
       "<table border=\"1\" class=\"dataframe\">\n",
       "  <thead>\n",
       "    <tr style=\"text-align: right;\">\n",
       "      <th></th>\n",
       "      <th>Age_Group</th>\n",
       "      <th>Survived</th>\n",
       "    </tr>\n",
       "  </thead>\n",
       "  <tbody>\n",
       "    <tr>\n",
       "      <th>0</th>\n",
       "      <td>(0.419, 19.0]</td>\n",
       "      <td>0.481707</td>\n",
       "    </tr>\n",
       "    <tr>\n",
       "      <th>1</th>\n",
       "      <td>(19.0, 25.0]</td>\n",
       "      <td>0.328467</td>\n",
       "    </tr>\n",
       "    <tr>\n",
       "      <th>2</th>\n",
       "      <td>(25.0, 31.8]</td>\n",
       "      <td>0.393701</td>\n",
       "    </tr>\n",
       "    <tr>\n",
       "      <th>3</th>\n",
       "      <td>(31.8, 41.0]</td>\n",
       "      <td>0.437500</td>\n",
       "    </tr>\n",
       "    <tr>\n",
       "      <th>4</th>\n",
       "      <td>(41.0, 80.0]</td>\n",
       "      <td>0.373239</td>\n",
       "    </tr>\n",
       "  </tbody>\n",
       "</table>\n",
       "</div>"
      ],
      "text/plain": [
       "       Age_Group  Survived\n",
       "0  (0.419, 19.0]  0.481707\n",
       "1   (19.0, 25.0]  0.328467\n",
       "2   (25.0, 31.8]  0.393701\n",
       "3   (31.8, 41.0]  0.437500\n",
       "4   (41.0, 80.0]  0.373239"
      ]
     },
     "execution_count": 28,
     "metadata": {},
     "output_type": "execute_result"
    }
   ],
   "source": [
    "train_df['Age_Group'] = pd.qcut(train_df['Age'], 5)\n",
    "test_df['Age_Group'] = pd.qcut(test_df['Age'], 5)\n",
    "\n",
    "train_df[['Age_Group', 'Survived']].groupby(['Age_Group'], as_index=False).mean().sort_values(by='Age_Group', ascending=True)"
   ]
  },
  {
   "cell_type": "code",
   "execution_count": 29,
   "id": "36f926f7",
   "metadata": {
    "execution": {
     "iopub.execute_input": "2024-07-03T12:11:44.833192Z",
     "iopub.status.busy": "2024-07-03T12:11:44.832185Z",
     "iopub.status.idle": "2024-07-03T12:11:44.867361Z",
     "shell.execute_reply": "2024-07-03T12:11:44.866144Z"
    },
    "papermill": {
     "duration": 0.068267,
     "end_time": "2024-07-03T12:11:44.869898",
     "exception": false,
     "start_time": "2024-07-03T12:11:44.801631",
     "status": "completed"
    },
    "tags": []
   },
   "outputs": [
    {
     "data": {
      "text/plain": [
       "Series([], Name: Age, dtype: float64)"
      ]
     },
     "execution_count": 29,
     "metadata": {},
     "output_type": "execute_result"
    }
   ],
   "source": [
    "train_df.loc[train_df['Age'] <= 19, 'Age'] = 0\n",
    "train_df.loc[(train_df['Age'] > 19) & (train_df['Age'] <= 25), 'Age'] = 1\n",
    "train_df.loc[(train_df['Age'] > 25) & (train_df['Age'] <= 31), 'Age'] = 2\n",
    "train_df.loc[(train_df['Age'] > 31) & (train_df['Age'] <= 41), 'Age'] = 3\n",
    "train_df.loc[(train_df['Age'] > 41) & (train_df['Age'] <= 80), 'Age'] = 4\n",
    "train_df.loc[train_df['Age'] > 80, 'Age']\n",
    "\n",
    "test_df.loc[test_df['Age'] <= 19, 'Age'] = 0\n",
    "test_df.loc[(test_df['Age'] > 19) & (train_df['Age'] <= 25), 'Age'] = 1\n",
    "test_df.loc[(test_df['Age'] > 25) & (train_df['Age'] <= 31), 'Age'] = 2\n",
    "test_df.loc[(test_df['Age'] > 31) & (train_df['Age'] <= 41), 'Age'] = 3\n",
    "test_df.loc[(test_df['Age'] > 41) & (train_df['Age'] <= 80), 'Age'] = 4\n",
    "test_df.loc[test_df['Age'] > 80, 'Age']"
   ]
  },
  {
   "cell_type": "code",
   "execution_count": 30,
   "id": "0226bd64",
   "metadata": {
    "execution": {
     "iopub.execute_input": "2024-07-03T12:11:44.930515Z",
     "iopub.status.busy": "2024-07-03T12:11:44.929446Z",
     "iopub.status.idle": "2024-07-03T12:11:44.936837Z",
     "shell.execute_reply": "2024-07-03T12:11:44.935850Z"
    },
    "papermill": {
     "duration": 0.040237,
     "end_time": "2024-07-03T12:11:44.939251",
     "exception": false,
     "start_time": "2024-07-03T12:11:44.899014",
     "status": "completed"
    },
    "tags": []
   },
   "outputs": [],
   "source": [
    "# fill in missing Age values in both train and test dataset\n",
    "train_df['Age'].fillna(train_df['Age'].mean(), inplace=True)\n",
    "test_df['Age'].fillna(test_df['Age'].mean(), inplace=True)"
   ]
  },
  {
   "cell_type": "code",
   "execution_count": 31,
   "id": "14828970",
   "metadata": {
    "execution": {
     "iopub.execute_input": "2024-07-03T12:11:44.999442Z",
     "iopub.status.busy": "2024-07-03T12:11:44.999027Z",
     "iopub.status.idle": "2024-07-03T12:11:45.019194Z",
     "shell.execute_reply": "2024-07-03T12:11:45.018229Z"
    },
    "papermill": {
     "duration": 0.052734,
     "end_time": "2024-07-03T12:11:45.021599",
     "exception": false,
     "start_time": "2024-07-03T12:11:44.968865",
     "status": "completed"
    },
    "tags": []
   },
   "outputs": [
    {
     "data": {
      "text/html": [
       "<div>\n",
       "<style scoped>\n",
       "    .dataframe tbody tr th:only-of-type {\n",
       "        vertical-align: middle;\n",
       "    }\n",
       "\n",
       "    .dataframe tbody tr th {\n",
       "        vertical-align: top;\n",
       "    }\n",
       "\n",
       "    .dataframe thead th {\n",
       "        text-align: right;\n",
       "    }\n",
       "</style>\n",
       "<table border=\"1\" class=\"dataframe\">\n",
       "  <thead>\n",
       "    <tr style=\"text-align: right;\">\n",
       "      <th></th>\n",
       "      <th>PassengerId</th>\n",
       "      <th>Survived</th>\n",
       "      <th>Pclass</th>\n",
       "      <th>Name</th>\n",
       "      <th>Sex</th>\n",
       "      <th>Age</th>\n",
       "      <th>SibSp</th>\n",
       "      <th>Parch</th>\n",
       "      <th>Ticket</th>\n",
       "      <th>Fare</th>\n",
       "      <th>Embarked</th>\n",
       "      <th>Cabin_Assigned</th>\n",
       "      <th>Title</th>\n",
       "      <th>Family_Size</th>\n",
       "      <th>isAlone</th>\n",
       "      <th>Age_Group</th>\n",
       "    </tr>\n",
       "  </thead>\n",
       "  <tbody>\n",
       "    <tr>\n",
       "      <th>0</th>\n",
       "      <td>1</td>\n",
       "      <td>0</td>\n",
       "      <td>3</td>\n",
       "      <td>Braund, Mr. Owen Harris</td>\n",
       "      <td>0</td>\n",
       "      <td>1.0</td>\n",
       "      <td>1</td>\n",
       "      <td>0</td>\n",
       "      <td>A/5 21171</td>\n",
       "      <td>7.2500</td>\n",
       "      <td>2</td>\n",
       "      <td>0</td>\n",
       "      <td>1</td>\n",
       "      <td>2</td>\n",
       "      <td>0</td>\n",
       "      <td>(19.0, 25.0]</td>\n",
       "    </tr>\n",
       "    <tr>\n",
       "      <th>1</th>\n",
       "      <td>2</td>\n",
       "      <td>1</td>\n",
       "      <td>1</td>\n",
       "      <td>Cumings, Mrs. John Bradley (Florence Briggs Th...</td>\n",
       "      <td>1</td>\n",
       "      <td>3.0</td>\n",
       "      <td>1</td>\n",
       "      <td>0</td>\n",
       "      <td>PC 17599</td>\n",
       "      <td>71.2833</td>\n",
       "      <td>0</td>\n",
       "      <td>1</td>\n",
       "      <td>3</td>\n",
       "      <td>2</td>\n",
       "      <td>0</td>\n",
       "      <td>(31.8, 41.0]</td>\n",
       "    </tr>\n",
       "    <tr>\n",
       "      <th>2</th>\n",
       "      <td>3</td>\n",
       "      <td>1</td>\n",
       "      <td>3</td>\n",
       "      <td>Heikkinen, Miss. Laina</td>\n",
       "      <td>1</td>\n",
       "      <td>2.0</td>\n",
       "      <td>0</td>\n",
       "      <td>0</td>\n",
       "      <td>STON/O2. 3101282</td>\n",
       "      <td>7.9250</td>\n",
       "      <td>2</td>\n",
       "      <td>0</td>\n",
       "      <td>2</td>\n",
       "      <td>1</td>\n",
       "      <td>1</td>\n",
       "      <td>(25.0, 31.8]</td>\n",
       "    </tr>\n",
       "    <tr>\n",
       "      <th>3</th>\n",
       "      <td>4</td>\n",
       "      <td>1</td>\n",
       "      <td>1</td>\n",
       "      <td>Futrelle, Mrs. Jacques Heath (Lily May Peel)</td>\n",
       "      <td>1</td>\n",
       "      <td>3.0</td>\n",
       "      <td>1</td>\n",
       "      <td>0</td>\n",
       "      <td>113803</td>\n",
       "      <td>53.1000</td>\n",
       "      <td>2</td>\n",
       "      <td>1</td>\n",
       "      <td>3</td>\n",
       "      <td>2</td>\n",
       "      <td>0</td>\n",
       "      <td>(31.8, 41.0]</td>\n",
       "    </tr>\n",
       "    <tr>\n",
       "      <th>4</th>\n",
       "      <td>5</td>\n",
       "      <td>0</td>\n",
       "      <td>3</td>\n",
       "      <td>Allen, Mr. William Henry</td>\n",
       "      <td>0</td>\n",
       "      <td>3.0</td>\n",
       "      <td>0</td>\n",
       "      <td>0</td>\n",
       "      <td>373450</td>\n",
       "      <td>8.0500</td>\n",
       "      <td>2</td>\n",
       "      <td>0</td>\n",
       "      <td>1</td>\n",
       "      <td>1</td>\n",
       "      <td>1</td>\n",
       "      <td>(31.8, 41.0]</td>\n",
       "    </tr>\n",
       "  </tbody>\n",
       "</table>\n",
       "</div>"
      ],
      "text/plain": [
       "   PassengerId  Survived  Pclass  \\\n",
       "0            1         0       3   \n",
       "1            2         1       1   \n",
       "2            3         1       3   \n",
       "3            4         1       1   \n",
       "4            5         0       3   \n",
       "\n",
       "                                                Name  Sex  Age  SibSp  Parch  \\\n",
       "0                            Braund, Mr. Owen Harris    0  1.0      1      0   \n",
       "1  Cumings, Mrs. John Bradley (Florence Briggs Th...    1  3.0      1      0   \n",
       "2                             Heikkinen, Miss. Laina    1  2.0      0      0   \n",
       "3       Futrelle, Mrs. Jacques Heath (Lily May Peel)    1  3.0      1      0   \n",
       "4                           Allen, Mr. William Henry    0  3.0      0      0   \n",
       "\n",
       "             Ticket     Fare  Embarked  Cabin_Assigned  Title  Family_Size  \\\n",
       "0         A/5 21171   7.2500         2               0      1            2   \n",
       "1          PC 17599  71.2833         0               1      3            2   \n",
       "2  STON/O2. 3101282   7.9250         2               0      2            1   \n",
       "3            113803  53.1000         2               1      3            2   \n",
       "4            373450   8.0500         2               0      1            1   \n",
       "\n",
       "   isAlone     Age_Group  \n",
       "0        0  (19.0, 25.0]  \n",
       "1        0  (31.8, 41.0]  \n",
       "2        1  (25.0, 31.8]  \n",
       "3        0  (31.8, 41.0]  \n",
       "4        1  (31.8, 41.0]  "
      ]
     },
     "execution_count": 31,
     "metadata": {},
     "output_type": "execute_result"
    }
   ],
   "source": [
    "train_df.head()"
   ]
  },
  {
   "cell_type": "code",
   "execution_count": 32,
   "id": "b4b2bd89",
   "metadata": {
    "execution": {
     "iopub.execute_input": "2024-07-03T12:11:45.083028Z",
     "iopub.status.busy": "2024-07-03T12:11:45.082611Z",
     "iopub.status.idle": "2024-07-03T12:11:45.096235Z",
     "shell.execute_reply": "2024-07-03T12:11:45.095282Z"
    },
    "papermill": {
     "duration": 0.047403,
     "end_time": "2024-07-03T12:11:45.098875",
     "exception": false,
     "start_time": "2024-07-03T12:11:45.051472",
     "status": "completed"
    },
    "tags": []
   },
   "outputs": [],
   "source": [
    "train_df['Fare_Band'] = pd.qcut(train_df['Fare'], 4)\n",
    "test_df['Fare_Band'] = pd.qcut(test_df['Fare'], 4)"
   ]
  },
  {
   "cell_type": "code",
   "execution_count": 33,
   "id": "e5f2908d",
   "metadata": {
    "execution": {
     "iopub.execute_input": "2024-07-03T12:11:45.160591Z",
     "iopub.status.busy": "2024-07-03T12:11:45.159461Z",
     "iopub.status.idle": "2024-07-03T12:11:45.175802Z",
     "shell.execute_reply": "2024-07-03T12:11:45.174650Z"
    },
    "papermill": {
     "duration": 0.049551,
     "end_time": "2024-07-03T12:11:45.178184",
     "exception": false,
     "start_time": "2024-07-03T12:11:45.128633",
     "status": "completed"
    },
    "tags": []
   },
   "outputs": [
    {
     "data": {
      "text/html": [
       "<div>\n",
       "<style scoped>\n",
       "    .dataframe tbody tr th:only-of-type {\n",
       "        vertical-align: middle;\n",
       "    }\n",
       "\n",
       "    .dataframe tbody tr th {\n",
       "        vertical-align: top;\n",
       "    }\n",
       "\n",
       "    .dataframe thead th {\n",
       "        text-align: right;\n",
       "    }\n",
       "</style>\n",
       "<table border=\"1\" class=\"dataframe\">\n",
       "  <thead>\n",
       "    <tr style=\"text-align: right;\">\n",
       "      <th></th>\n",
       "      <th>Fare_Band</th>\n",
       "      <th>Survived</th>\n",
       "    </tr>\n",
       "  </thead>\n",
       "  <tbody>\n",
       "    <tr>\n",
       "      <th>0</th>\n",
       "      <td>(-0.001, 7.91]</td>\n",
       "      <td>0.197309</td>\n",
       "    </tr>\n",
       "    <tr>\n",
       "      <th>1</th>\n",
       "      <td>(7.91, 14.454]</td>\n",
       "      <td>0.303571</td>\n",
       "    </tr>\n",
       "    <tr>\n",
       "      <th>2</th>\n",
       "      <td>(14.454, 31.0]</td>\n",
       "      <td>0.454955</td>\n",
       "    </tr>\n",
       "    <tr>\n",
       "      <th>3</th>\n",
       "      <td>(31.0, 512.329]</td>\n",
       "      <td>0.581081</td>\n",
       "    </tr>\n",
       "  </tbody>\n",
       "</table>\n",
       "</div>"
      ],
      "text/plain": [
       "         Fare_Band  Survived\n",
       "0   (-0.001, 7.91]  0.197309\n",
       "1   (7.91, 14.454]  0.303571\n",
       "2   (14.454, 31.0]  0.454955\n",
       "3  (31.0, 512.329]  0.581081"
      ]
     },
     "execution_count": 33,
     "metadata": {},
     "output_type": "execute_result"
    }
   ],
   "source": [
    "train_df[['Fare_Band', 'Survived']].groupby(['Fare_Band'], as_index=False).mean().sort_values(by='Fare_Band', ascending=True)"
   ]
  },
  {
   "cell_type": "code",
   "execution_count": 34,
   "id": "689db7a1",
   "metadata": {
    "execution": {
     "iopub.execute_input": "2024-07-03T12:11:45.239460Z",
     "iopub.status.busy": "2024-07-03T12:11:45.239057Z",
     "iopub.status.idle": "2024-07-03T12:11:45.256269Z",
     "shell.execute_reply": "2024-07-03T12:11:45.255048Z"
    },
    "papermill": {
     "duration": 0.050759,
     "end_time": "2024-07-03T12:11:45.258947",
     "exception": false,
     "start_time": "2024-07-03T12:11:45.208188",
     "status": "completed"
    },
    "tags": []
   },
   "outputs": [],
   "source": [
    "train_df.loc[train_df['Fare'] <= 7.91, 'Fare'] = 0\n",
    "train_df.loc[(train_df['Fare'] > 7.91) & (train_df['Fare'] <= 14.454), 'Fare'] = 1\n",
    "train_df.loc[(train_df['Fare'] > 14.454) & (train_df['Fare'] <= 31), 'Fare'] = 2\n",
    "train_df.loc[train_df['Fare'] > 31, 'Fare'] = 3 \n",
    "\n",
    "test_df.loc[test_df['Fare'] <= 7.91, 'Fare'] = 0\n",
    "test_df.loc[(test_df['Fare'] > 7.91) & (test_df['Fare'] <= 14.454), 'Fare'] = 1\n",
    "test_df.loc[(test_df['Fare'] > 14.454) & (test_df['Fare'] <= 31), 'Fare'] = 2\n",
    "test_df.loc[test_df['Fare'] > 31, 'Fare'] = 3 "
   ]
  },
  {
   "cell_type": "code",
   "execution_count": 35,
   "id": "b3ae1c15",
   "metadata": {
    "execution": {
     "iopub.execute_input": "2024-07-03T12:11:45.322859Z",
     "iopub.status.busy": "2024-07-03T12:11:45.321654Z",
     "iopub.status.idle": "2024-07-03T12:11:45.328258Z",
     "shell.execute_reply": "2024-07-03T12:11:45.327265Z"
    },
    "papermill": {
     "duration": 0.040632,
     "end_time": "2024-07-03T12:11:45.330800",
     "exception": false,
     "start_time": "2024-07-03T12:11:45.290168",
     "status": "completed"
    },
    "tags": []
   },
   "outputs": [],
   "source": [
    "# Fill in the missing Fare value in the test Dataset\n",
    "test_df['Fare'].fillna(test_df['Fare'].mean(), inplace=True)"
   ]
  },
  {
   "cell_type": "code",
   "execution_count": 36,
   "id": "f8c1526d",
   "metadata": {
    "execution": {
     "iopub.execute_input": "2024-07-03T12:11:45.394934Z",
     "iopub.status.busy": "2024-07-03T12:11:45.394471Z",
     "iopub.status.idle": "2024-07-03T12:11:45.406701Z",
     "shell.execute_reply": "2024-07-03T12:11:45.405447Z"
    },
    "papermill": {
     "duration": 0.047864,
     "end_time": "2024-07-03T12:11:45.409094",
     "exception": false,
     "start_time": "2024-07-03T12:11:45.361230",
     "status": "completed"
    },
    "tags": []
   },
   "outputs": [],
   "source": [
    "# Convert all columns to int64 values\n",
    "float_train_cols = train_df.select_dtypes(include=['float64']).columns\n",
    "train_df[float_train_cols] = train_df[float_train_cols].astype('int64')\n",
    "\n",
    "float_test_cols = test_df.select_dtypes(include=['float64']).columns\n",
    "test_df[float_test_cols] = test_df[float_test_cols].astype('int64')"
   ]
  },
  {
   "cell_type": "code",
   "execution_count": 37,
   "id": "54d92c3e",
   "metadata": {
    "execution": {
     "iopub.execute_input": "2024-07-03T12:11:45.473150Z",
     "iopub.status.busy": "2024-07-03T12:11:45.472213Z",
     "iopub.status.idle": "2024-07-03T12:11:45.489736Z",
     "shell.execute_reply": "2024-07-03T12:11:45.488567Z"
    },
    "papermill": {
     "duration": 0.052135,
     "end_time": "2024-07-03T12:11:45.492127",
     "exception": false,
     "start_time": "2024-07-03T12:11:45.439992",
     "status": "completed"
    },
    "tags": []
   },
   "outputs": [
    {
     "data": {
      "text/html": [
       "<div>\n",
       "<style scoped>\n",
       "    .dataframe tbody tr th:only-of-type {\n",
       "        vertical-align: middle;\n",
       "    }\n",
       "\n",
       "    .dataframe tbody tr th {\n",
       "        vertical-align: top;\n",
       "    }\n",
       "\n",
       "    .dataframe thead th {\n",
       "        text-align: right;\n",
       "    }\n",
       "</style>\n",
       "<table border=\"1\" class=\"dataframe\">\n",
       "  <thead>\n",
       "    <tr style=\"text-align: right;\">\n",
       "      <th></th>\n",
       "      <th>PassengerId</th>\n",
       "      <th>Survived</th>\n",
       "      <th>Pclass</th>\n",
       "      <th>Sex</th>\n",
       "      <th>Age</th>\n",
       "      <th>SibSp</th>\n",
       "      <th>Parch</th>\n",
       "      <th>Fare</th>\n",
       "      <th>Embarked</th>\n",
       "      <th>Cabin_Assigned</th>\n",
       "      <th>Title</th>\n",
       "      <th>Family_Size</th>\n",
       "      <th>isAlone</th>\n",
       "    </tr>\n",
       "  </thead>\n",
       "  <tbody>\n",
       "    <tr>\n",
       "      <th>0</th>\n",
       "      <td>1</td>\n",
       "      <td>0</td>\n",
       "      <td>3</td>\n",
       "      <td>0</td>\n",
       "      <td>1</td>\n",
       "      <td>1</td>\n",
       "      <td>0</td>\n",
       "      <td>0</td>\n",
       "      <td>2</td>\n",
       "      <td>0</td>\n",
       "      <td>1</td>\n",
       "      <td>2</td>\n",
       "      <td>0</td>\n",
       "    </tr>\n",
       "    <tr>\n",
       "      <th>1</th>\n",
       "      <td>2</td>\n",
       "      <td>1</td>\n",
       "      <td>1</td>\n",
       "      <td>1</td>\n",
       "      <td>3</td>\n",
       "      <td>1</td>\n",
       "      <td>0</td>\n",
       "      <td>3</td>\n",
       "      <td>0</td>\n",
       "      <td>1</td>\n",
       "      <td>3</td>\n",
       "      <td>2</td>\n",
       "      <td>0</td>\n",
       "    </tr>\n",
       "    <tr>\n",
       "      <th>2</th>\n",
       "      <td>3</td>\n",
       "      <td>1</td>\n",
       "      <td>3</td>\n",
       "      <td>1</td>\n",
       "      <td>2</td>\n",
       "      <td>0</td>\n",
       "      <td>0</td>\n",
       "      <td>1</td>\n",
       "      <td>2</td>\n",
       "      <td>0</td>\n",
       "      <td>2</td>\n",
       "      <td>1</td>\n",
       "      <td>1</td>\n",
       "    </tr>\n",
       "    <tr>\n",
       "      <th>3</th>\n",
       "      <td>4</td>\n",
       "      <td>1</td>\n",
       "      <td>1</td>\n",
       "      <td>1</td>\n",
       "      <td>3</td>\n",
       "      <td>1</td>\n",
       "      <td>0</td>\n",
       "      <td>3</td>\n",
       "      <td>2</td>\n",
       "      <td>1</td>\n",
       "      <td>3</td>\n",
       "      <td>2</td>\n",
       "      <td>0</td>\n",
       "    </tr>\n",
       "    <tr>\n",
       "      <th>4</th>\n",
       "      <td>5</td>\n",
       "      <td>0</td>\n",
       "      <td>3</td>\n",
       "      <td>0</td>\n",
       "      <td>3</td>\n",
       "      <td>0</td>\n",
       "      <td>0</td>\n",
       "      <td>1</td>\n",
       "      <td>2</td>\n",
       "      <td>0</td>\n",
       "      <td>1</td>\n",
       "      <td>1</td>\n",
       "      <td>1</td>\n",
       "    </tr>\n",
       "  </tbody>\n",
       "</table>\n",
       "</div>"
      ],
      "text/plain": [
       "   PassengerId  Survived  Pclass  Sex  Age  SibSp  Parch  Fare  Embarked  \\\n",
       "0            1         0       3    0    1      1      0     0         2   \n",
       "1            2         1       1    1    3      1      0     3         0   \n",
       "2            3         1       3    1    2      0      0     1         2   \n",
       "3            4         1       1    1    3      1      0     3         2   \n",
       "4            5         0       3    0    3      0      0     1         2   \n",
       "\n",
       "   Cabin_Assigned  Title  Family_Size  isAlone  \n",
       "0               0      1            2        0  \n",
       "1               1      3            2        0  \n",
       "2               0      2            1        1  \n",
       "3               1      3            2        0  \n",
       "4               0      1            1        1  "
      ]
     },
     "execution_count": 37,
     "metadata": {},
     "output_type": "execute_result"
    }
   ],
   "source": [
    "# Finally lets drop the columns that we dont need anymore\n",
    "train_df = train_df.drop(['Fare_Band', 'Age_Group', 'Name', 'Ticket'], axis=1)\n",
    "train_df.head()"
   ]
  },
  {
   "cell_type": "code",
   "execution_count": 38,
   "id": "8bbf388d",
   "metadata": {
    "execution": {
     "iopub.execute_input": "2024-07-03T12:11:45.554667Z",
     "iopub.status.busy": "2024-07-03T12:11:45.553498Z",
     "iopub.status.idle": "2024-07-03T12:11:45.571845Z",
     "shell.execute_reply": "2024-07-03T12:11:45.570580Z"
    },
    "papermill": {
     "duration": 0.052198,
     "end_time": "2024-07-03T12:11:45.574359",
     "exception": false,
     "start_time": "2024-07-03T12:11:45.522161",
     "status": "completed"
    },
    "tags": []
   },
   "outputs": [
    {
     "data": {
      "text/html": [
       "<div>\n",
       "<style scoped>\n",
       "    .dataframe tbody tr th:only-of-type {\n",
       "        vertical-align: middle;\n",
       "    }\n",
       "\n",
       "    .dataframe tbody tr th {\n",
       "        vertical-align: top;\n",
       "    }\n",
       "\n",
       "    .dataframe thead th {\n",
       "        text-align: right;\n",
       "    }\n",
       "</style>\n",
       "<table border=\"1\" class=\"dataframe\">\n",
       "  <thead>\n",
       "    <tr style=\"text-align: right;\">\n",
       "      <th></th>\n",
       "      <th>PassengerId</th>\n",
       "      <th>Pclass</th>\n",
       "      <th>Sex</th>\n",
       "      <th>Age</th>\n",
       "      <th>SibSp</th>\n",
       "      <th>Parch</th>\n",
       "      <th>Fare</th>\n",
       "      <th>Embarked</th>\n",
       "      <th>Cabin_Assigned</th>\n",
       "      <th>Title</th>\n",
       "      <th>Family_Size</th>\n",
       "      <th>isAlone</th>\n",
       "    </tr>\n",
       "  </thead>\n",
       "  <tbody>\n",
       "    <tr>\n",
       "      <th>0</th>\n",
       "      <td>892</td>\n",
       "      <td>3</td>\n",
       "      <td>0</td>\n",
       "      <td>1</td>\n",
       "      <td>0</td>\n",
       "      <td>0</td>\n",
       "      <td>0</td>\n",
       "      <td>1</td>\n",
       "      <td>0</td>\n",
       "      <td>1</td>\n",
       "      <td>1</td>\n",
       "      <td>1</td>\n",
       "    </tr>\n",
       "    <tr>\n",
       "      <th>1</th>\n",
       "      <td>893</td>\n",
       "      <td>3</td>\n",
       "      <td>1</td>\n",
       "      <td>1</td>\n",
       "      <td>1</td>\n",
       "      <td>0</td>\n",
       "      <td>0</td>\n",
       "      <td>2</td>\n",
       "      <td>0</td>\n",
       "      <td>3</td>\n",
       "      <td>2</td>\n",
       "      <td>0</td>\n",
       "    </tr>\n",
       "    <tr>\n",
       "      <th>2</th>\n",
       "      <td>894</td>\n",
       "      <td>2</td>\n",
       "      <td>0</td>\n",
       "      <td>1</td>\n",
       "      <td>0</td>\n",
       "      <td>0</td>\n",
       "      <td>1</td>\n",
       "      <td>1</td>\n",
       "      <td>0</td>\n",
       "      <td>1</td>\n",
       "      <td>1</td>\n",
       "      <td>1</td>\n",
       "    </tr>\n",
       "    <tr>\n",
       "      <th>3</th>\n",
       "      <td>895</td>\n",
       "      <td>3</td>\n",
       "      <td>0</td>\n",
       "      <td>1</td>\n",
       "      <td>0</td>\n",
       "      <td>0</td>\n",
       "      <td>1</td>\n",
       "      <td>2</td>\n",
       "      <td>0</td>\n",
       "      <td>1</td>\n",
       "      <td>1</td>\n",
       "      <td>1</td>\n",
       "    </tr>\n",
       "    <tr>\n",
       "      <th>4</th>\n",
       "      <td>896</td>\n",
       "      <td>3</td>\n",
       "      <td>1</td>\n",
       "      <td>1</td>\n",
       "      <td>1</td>\n",
       "      <td>1</td>\n",
       "      <td>1</td>\n",
       "      <td>2</td>\n",
       "      <td>0</td>\n",
       "      <td>3</td>\n",
       "      <td>2</td>\n",
       "      <td>0</td>\n",
       "    </tr>\n",
       "    <tr>\n",
       "      <th>5</th>\n",
       "      <td>897</td>\n",
       "      <td>3</td>\n",
       "      <td>0</td>\n",
       "      <td>0</td>\n",
       "      <td>0</td>\n",
       "      <td>0</td>\n",
       "      <td>1</td>\n",
       "      <td>2</td>\n",
       "      <td>0</td>\n",
       "      <td>1</td>\n",
       "      <td>1</td>\n",
       "      <td>1</td>\n",
       "    </tr>\n",
       "    <tr>\n",
       "      <th>6</th>\n",
       "      <td>898</td>\n",
       "      <td>3</td>\n",
       "      <td>1</td>\n",
       "      <td>1</td>\n",
       "      <td>0</td>\n",
       "      <td>0</td>\n",
       "      <td>0</td>\n",
       "      <td>1</td>\n",
       "      <td>0</td>\n",
       "      <td>2</td>\n",
       "      <td>1</td>\n",
       "      <td>1</td>\n",
       "    </tr>\n",
       "    <tr>\n",
       "      <th>7</th>\n",
       "      <td>899</td>\n",
       "      <td>2</td>\n",
       "      <td>0</td>\n",
       "      <td>1</td>\n",
       "      <td>1</td>\n",
       "      <td>1</td>\n",
       "      <td>2</td>\n",
       "      <td>2</td>\n",
       "      <td>0</td>\n",
       "      <td>1</td>\n",
       "      <td>3</td>\n",
       "      <td>0</td>\n",
       "    </tr>\n",
       "    <tr>\n",
       "      <th>8</th>\n",
       "      <td>900</td>\n",
       "      <td>3</td>\n",
       "      <td>1</td>\n",
       "      <td>0</td>\n",
       "      <td>0</td>\n",
       "      <td>0</td>\n",
       "      <td>0</td>\n",
       "      <td>0</td>\n",
       "      <td>0</td>\n",
       "      <td>3</td>\n",
       "      <td>3</td>\n",
       "      <td>0</td>\n",
       "    </tr>\n",
       "    <tr>\n",
       "      <th>9</th>\n",
       "      <td>901</td>\n",
       "      <td>3</td>\n",
       "      <td>0</td>\n",
       "      <td>1</td>\n",
       "      <td>2</td>\n",
       "      <td>0</td>\n",
       "      <td>2</td>\n",
       "      <td>2</td>\n",
       "      <td>0</td>\n",
       "      <td>1</td>\n",
       "      <td>3</td>\n",
       "      <td>0</td>\n",
       "    </tr>\n",
       "  </tbody>\n",
       "</table>\n",
       "</div>"
      ],
      "text/plain": [
       "   PassengerId  Pclass  Sex  Age  SibSp  Parch  Fare  Embarked  \\\n",
       "0          892       3    0    1      0      0     0         1   \n",
       "1          893       3    1    1      1      0     0         2   \n",
       "2          894       2    0    1      0      0     1         1   \n",
       "3          895       3    0    1      0      0     1         2   \n",
       "4          896       3    1    1      1      1     1         2   \n",
       "5          897       3    0    0      0      0     1         2   \n",
       "6          898       3    1    1      0      0     0         1   \n",
       "7          899       2    0    1      1      1     2         2   \n",
       "8          900       3    1    0      0      0     0         0   \n",
       "9          901       3    0    1      2      0     2         2   \n",
       "\n",
       "   Cabin_Assigned  Title  Family_Size  isAlone  \n",
       "0               0      1            1        1  \n",
       "1               0      3            2        0  \n",
       "2               0      1            1        1  \n",
       "3               0      1            1        1  \n",
       "4               0      3            2        0  \n",
       "5               0      1            1        1  \n",
       "6               0      2            1        1  \n",
       "7               0      1            3        0  \n",
       "8               0      3            3        0  \n",
       "9               0      1            3        0  "
      ]
     },
     "execution_count": 38,
     "metadata": {},
     "output_type": "execute_result"
    }
   ],
   "source": [
    "test_df = test_df.drop(['Fare_Band', 'Age_Group', 'Name', 'Ticket'], axis=1)\n",
    "test_df.head(10)"
   ]
  },
  {
   "cell_type": "markdown",
   "id": "b4b20647",
   "metadata": {
    "papermill": {
     "duration": 0.030975,
     "end_time": "2024-07-03T12:11:45.636257",
     "exception": false,
     "start_time": "2024-07-03T12:11:45.605282",
     "status": "completed"
    },
    "tags": []
   },
   "source": [
    "### Choosing Our Model\n",
    "\n",
    "There are a number of different models that we could use. \n",
    "- Logistic Regressoin\n",
    "- Support Vector Machines\n",
    "- Random Forest Classifier\n",
    "- K-Nearest Neighbour (KNN)\n",
    "- Gaussian Naive Bayes\n",
    "- Gradient Boosting Classifier \n",
    "- Decision Tree\n",
    "- Perceptron\n",
    "- Stochastic Gradient Descent\n",
    "\n",
    "We'll go through each one individually and analyse the results at the end."
   ]
  },
  {
   "cell_type": "code",
   "execution_count": 39,
   "id": "6170a8b8",
   "metadata": {
    "execution": {
     "iopub.execute_input": "2024-07-03T12:11:45.699820Z",
     "iopub.status.busy": "2024-07-03T12:11:45.698794Z",
     "iopub.status.idle": "2024-07-03T12:11:45.710351Z",
     "shell.execute_reply": "2024-07-03T12:11:45.709180Z"
    },
    "papermill": {
     "duration": 0.046054,
     "end_time": "2024-07-03T12:11:45.712896",
     "exception": false,
     "start_time": "2024-07-03T12:11:45.666842",
     "status": "completed"
    },
    "tags": []
   },
   "outputs": [],
   "source": [
    "# Well start by splitting our training data to test the accuracy of each model\n",
    "predictors = train_df.drop(['Survived', 'PassengerId'], axis=1)\n",
    "target = train_df[\"Survived\"]\n",
    "X_train, X_val, y_train, y_val = train_test_split(predictors, target, test_size = 0.22, random_state = 0)"
   ]
  },
  {
   "cell_type": "markdown",
   "id": "58de243e",
   "metadata": {
    "papermill": {
     "duration": 0.030168,
     "end_time": "2024-07-03T12:11:45.773621",
     "exception": false,
     "start_time": "2024-07-03T12:11:45.743453",
     "status": "completed"
    },
    "tags": []
   },
   "source": [
    "#### Logistic Regression"
   ]
  },
  {
   "cell_type": "code",
   "execution_count": 40,
   "id": "1c3117d1",
   "metadata": {
    "execution": {
     "iopub.execute_input": "2024-07-03T12:11:45.837444Z",
     "iopub.status.busy": "2024-07-03T12:11:45.836639Z",
     "iopub.status.idle": "2024-07-03T12:11:45.867939Z",
     "shell.execute_reply": "2024-07-03T12:11:45.866784Z"
    },
    "papermill": {
     "duration": 0.066054,
     "end_time": "2024-07-03T12:11:45.870662",
     "exception": false,
     "start_time": "2024-07-03T12:11:45.804608",
     "status": "completed"
    },
    "tags": []
   },
   "outputs": [
    {
     "name": "stdout",
     "output_type": "stream",
     "text": [
      "79.7\n"
     ]
    }
   ],
   "source": [
    "#Initisalise Logistic Regression model\n",
    "log_reg = LogisticRegression()\n",
    "\n",
    "# Train the logistic Regression model on the training data\n",
    "log_reg.fit(X_train, y_train)\n",
    "\n",
    "# Use the model to predict the labels for the validation set\n",
    "y_pred = log_reg.predict(X_val)\n",
    "\n",
    "# calculate the accuracy\n",
    "log_acc = round(accuracy_score(y_pred, y_val)*100, 2)\n",
    "print(log_acc)"
   ]
  },
  {
   "cell_type": "markdown",
   "id": "85c3ecbe",
   "metadata": {
    "papermill": {
     "duration": 0.030168,
     "end_time": "2024-07-03T12:11:45.931587",
     "exception": false,
     "start_time": "2024-07-03T12:11:45.901419",
     "status": "completed"
    },
    "tags": []
   },
   "source": [
    "#### Support Vector Machines"
   ]
  },
  {
   "cell_type": "code",
   "execution_count": 41,
   "id": "156f0864",
   "metadata": {
    "execution": {
     "iopub.execute_input": "2024-07-03T12:11:45.997709Z",
     "iopub.status.busy": "2024-07-03T12:11:45.996814Z",
     "iopub.status.idle": "2024-07-03T12:11:46.032291Z",
     "shell.execute_reply": "2024-07-03T12:11:46.030861Z"
    },
    "papermill": {
     "duration": 0.072618,
     "end_time": "2024-07-03T12:11:46.034885",
     "exception": false,
     "start_time": "2024-07-03T12:11:45.962267",
     "status": "completed"
    },
    "tags": []
   },
   "outputs": [
    {
     "name": "stdout",
     "output_type": "stream",
     "text": [
      "81.73\n"
     ]
    }
   ],
   "source": [
    "svc = SVC()\n",
    "svc.fit(X_train, y_train)\n",
    "y_pred = svc.predict(X_val)\n",
    "svc_acc = round(accuracy_score(y_pred, y_val)*100, 2)\n",
    "print(svc_acc)"
   ]
  },
  {
   "cell_type": "markdown",
   "id": "f33d3c6a",
   "metadata": {
    "papermill": {
     "duration": 0.031347,
     "end_time": "2024-07-03T12:11:46.096736",
     "exception": false,
     "start_time": "2024-07-03T12:11:46.065389",
     "status": "completed"
    },
    "tags": []
   },
   "source": [
    "#### Random Forest Classifier"
   ]
  },
  {
   "cell_type": "code",
   "execution_count": 42,
   "id": "d8d6249c",
   "metadata": {
    "execution": {
     "iopub.execute_input": "2024-07-03T12:11:46.164070Z",
     "iopub.status.busy": "2024-07-03T12:11:46.163666Z",
     "iopub.status.idle": "2024-07-03T12:11:46.450330Z",
     "shell.execute_reply": "2024-07-03T12:11:46.448785Z"
    },
    "papermill": {
     "duration": 0.32225,
     "end_time": "2024-07-03T12:11:46.452870",
     "exception": false,
     "start_time": "2024-07-03T12:11:46.130620",
     "status": "completed"
    },
    "tags": []
   },
   "outputs": [
    {
     "name": "stdout",
     "output_type": "stream",
     "text": [
      "83.76\n"
     ]
    }
   ],
   "source": [
    "rfc = RandomForestClassifier()\n",
    "rfc.fit(X_train, y_train)\n",
    "y_pred = rfc.predict(X_val)\n",
    "rfc_acc = round(accuracy_score(y_pred, y_val)*100, 2)\n",
    "print(rfc_acc)"
   ]
  },
  {
   "cell_type": "markdown",
   "id": "060ee676",
   "metadata": {
    "papermill": {
     "duration": 0.031269,
     "end_time": "2024-07-03T12:11:46.515741",
     "exception": false,
     "start_time": "2024-07-03T12:11:46.484472",
     "status": "completed"
    },
    "tags": []
   },
   "source": [
    "#### K-Nearest Neighbour"
   ]
  },
  {
   "cell_type": "code",
   "execution_count": 43,
   "id": "c2681d52",
   "metadata": {
    "execution": {
     "iopub.execute_input": "2024-07-03T12:11:46.581583Z",
     "iopub.status.busy": "2024-07-03T12:11:46.580400Z",
     "iopub.status.idle": "2024-07-03T12:11:46.610387Z",
     "shell.execute_reply": "2024-07-03T12:11:46.609080Z"
    },
    "papermill": {
     "duration": 0.06625,
     "end_time": "2024-07-03T12:11:46.613120",
     "exception": false,
     "start_time": "2024-07-03T12:11:46.546870",
     "status": "completed"
    },
    "tags": []
   },
   "outputs": [
    {
     "name": "stdout",
     "output_type": "stream",
     "text": [
      "80.71\n"
     ]
    }
   ],
   "source": [
    "knn = KNeighborsClassifier()\n",
    "knn.fit(X_train, y_train)\n",
    "y_pred = knn.predict(X_val)\n",
    "knn_acc = round(accuracy_score(y_pred, y_val)*100, 2)\n",
    "print(knn_acc)"
   ]
  },
  {
   "cell_type": "markdown",
   "id": "509e8921",
   "metadata": {
    "papermill": {
     "duration": 0.031482,
     "end_time": "2024-07-03T12:11:46.675877",
     "exception": false,
     "start_time": "2024-07-03T12:11:46.644395",
     "status": "completed"
    },
    "tags": []
   },
   "source": [
    "#### Gaussian Naive Bayes"
   ]
  },
  {
   "cell_type": "code",
   "execution_count": 44,
   "id": "e0bab277",
   "metadata": {
    "execution": {
     "iopub.execute_input": "2024-07-03T12:11:46.740670Z",
     "iopub.status.busy": "2024-07-03T12:11:46.740209Z",
     "iopub.status.idle": "2024-07-03T12:11:46.754915Z",
     "shell.execute_reply": "2024-07-03T12:11:46.753417Z"
    },
    "papermill": {
     "duration": 0.049577,
     "end_time": "2024-07-03T12:11:46.757675",
     "exception": false,
     "start_time": "2024-07-03T12:11:46.708098",
     "status": "completed"
    },
    "tags": []
   },
   "outputs": [
    {
     "name": "stdout",
     "output_type": "stream",
     "text": [
      "77.66\n"
     ]
    }
   ],
   "source": [
    "guassian = GaussianNB()\n",
    "guassian.fit(X_train, y_train)\n",
    "y_pred = guassian.predict(X_val)\n",
    "guassian_acc = round(accuracy_score(y_pred, y_val)*100,2)\n",
    "print(guassian_acc)"
   ]
  },
  {
   "cell_type": "markdown",
   "id": "000f9068",
   "metadata": {
    "papermill": {
     "duration": 0.031393,
     "end_time": "2024-07-03T12:11:46.820984",
     "exception": false,
     "start_time": "2024-07-03T12:11:46.789591",
     "status": "completed"
    },
    "tags": []
   },
   "source": [
    "#### Gradient Boosting Classifier "
   ]
  },
  {
   "cell_type": "code",
   "execution_count": 45,
   "id": "340d7d38",
   "metadata": {
    "execution": {
     "iopub.execute_input": "2024-07-03T12:11:46.884752Z",
     "iopub.status.busy": "2024-07-03T12:11:46.883849Z",
     "iopub.status.idle": "2024-07-03T12:11:47.032350Z",
     "shell.execute_reply": "2024-07-03T12:11:47.030813Z"
    },
    "papermill": {
     "duration": 0.183443,
     "end_time": "2024-07-03T12:11:47.035155",
     "exception": false,
     "start_time": "2024-07-03T12:11:46.851712",
     "status": "completed"
    },
    "tags": []
   },
   "outputs": [
    {
     "name": "stdout",
     "output_type": "stream",
     "text": [
      "82.23\n"
     ]
    }
   ],
   "source": [
    "gbc = GradientBoostingClassifier()\n",
    "gbc.fit(X_train, y_train)\n",
    "y_pred = gbc.predict(X_val)\n",
    "gbc_acc = round(accuracy_score(y_pred, y_val)*100, 2)\n",
    "print(gbc_acc)"
   ]
  },
  {
   "cell_type": "markdown",
   "id": "95abf72c",
   "metadata": {
    "papermill": {
     "duration": 0.031361,
     "end_time": "2024-07-03T12:11:47.098721",
     "exception": false,
     "start_time": "2024-07-03T12:11:47.067360",
     "status": "completed"
    },
    "tags": []
   },
   "source": [
    "#### Decision Tree Classifier\n"
   ]
  },
  {
   "cell_type": "code",
   "execution_count": 46,
   "id": "e89cf8ec",
   "metadata": {
    "execution": {
     "iopub.execute_input": "2024-07-03T12:11:47.163385Z",
     "iopub.status.busy": "2024-07-03T12:11:47.162971Z",
     "iopub.status.idle": "2024-07-03T12:11:47.177112Z",
     "shell.execute_reply": "2024-07-03T12:11:47.175872Z"
    },
    "papermill": {
     "duration": 0.049126,
     "end_time": "2024-07-03T12:11:47.179492",
     "exception": false,
     "start_time": "2024-07-03T12:11:47.130366",
     "status": "completed"
    },
    "tags": []
   },
   "outputs": [
    {
     "name": "stdout",
     "output_type": "stream",
     "text": [
      "80.2\n"
     ]
    }
   ],
   "source": [
    "dtc = DecisionTreeClassifier()\n",
    "dtc.fit(X_train, y_train)\n",
    "y_pred = dtc.predict(X_val)\n",
    "dtc_acc = round(accuracy_score(y_pred, y_val)*100,2)\n",
    "print(dtc_acc)"
   ]
  },
  {
   "cell_type": "markdown",
   "id": "6262de6b",
   "metadata": {
    "papermill": {
     "duration": 0.030954,
     "end_time": "2024-07-03T12:11:47.241733",
     "exception": false,
     "start_time": "2024-07-03T12:11:47.210779",
     "status": "completed"
    },
    "tags": []
   },
   "source": [
    "#### Perceptron"
   ]
  },
  {
   "cell_type": "code",
   "execution_count": 47,
   "id": "bc24a1d3",
   "metadata": {
    "execution": {
     "iopub.execute_input": "2024-07-03T12:11:47.308584Z",
     "iopub.status.busy": "2024-07-03T12:11:47.308166Z",
     "iopub.status.idle": "2024-07-03T12:11:47.324210Z",
     "shell.execute_reply": "2024-07-03T12:11:47.322964Z"
    },
    "papermill": {
     "duration": 0.052672,
     "end_time": "2024-07-03T12:11:47.326754",
     "exception": false,
     "start_time": "2024-07-03T12:11:47.274082",
     "status": "completed"
    },
    "tags": []
   },
   "outputs": [
    {
     "name": "stdout",
     "output_type": "stream",
     "text": [
      "76.65\n"
     ]
    }
   ],
   "source": [
    "perceptron = Perceptron()\n",
    "perceptron.fit(X_train, y_train)\n",
    "y_pred = perceptron.predict(X_val)\n",
    "perceptron_acc = round(accuracy_score(y_pred, y_val)*100, 2)\n",
    "print(perceptron_acc)"
   ]
  },
  {
   "cell_type": "markdown",
   "id": "be4d30e0",
   "metadata": {
    "papermill": {
     "duration": 0.030956,
     "end_time": "2024-07-03T12:11:47.389265",
     "exception": false,
     "start_time": "2024-07-03T12:11:47.358309",
     "status": "completed"
    },
    "tags": []
   },
   "source": [
    "#### Stochastic Gradient Descent"
   ]
  },
  {
   "cell_type": "code",
   "execution_count": 48,
   "id": "3eeb7914",
   "metadata": {
    "execution": {
     "iopub.execute_input": "2024-07-03T12:11:47.454346Z",
     "iopub.status.busy": "2024-07-03T12:11:47.453323Z",
     "iopub.status.idle": "2024-07-03T12:11:47.471323Z",
     "shell.execute_reply": "2024-07-03T12:11:47.469904Z"
    },
    "papermill": {
     "duration": 0.052759,
     "end_time": "2024-07-03T12:11:47.473682",
     "exception": false,
     "start_time": "2024-07-03T12:11:47.420923",
     "status": "completed"
    },
    "tags": []
   },
   "outputs": [
    {
     "name": "stdout",
     "output_type": "stream",
     "text": [
      "78.17\n"
     ]
    }
   ],
   "source": [
    "sgc = SGDClassifier()\n",
    "sgc.fit(X_train, y_train)\n",
    "y_pred = sgc.predict(X_val)\n",
    "sgc_acc = round(accuracy_score(y_pred, y_val)*100,2)\n",
    "print(sgc_acc)"
   ]
  },
  {
   "cell_type": "code",
   "execution_count": 49,
   "id": "84819c97",
   "metadata": {
    "execution": {
     "iopub.execute_input": "2024-07-03T12:11:47.538709Z",
     "iopub.status.busy": "2024-07-03T12:11:47.538265Z",
     "iopub.status.idle": "2024-07-03T12:11:47.554516Z",
     "shell.execute_reply": "2024-07-03T12:11:47.553198Z"
    },
    "papermill": {
     "duration": 0.051874,
     "end_time": "2024-07-03T12:11:47.556937",
     "exception": false,
     "start_time": "2024-07-03T12:11:47.505063",
     "status": "completed"
    },
    "tags": []
   },
   "outputs": [
    {
     "data": {
      "text/html": [
       "<div>\n",
       "<style scoped>\n",
       "    .dataframe tbody tr th:only-of-type {\n",
       "        vertical-align: middle;\n",
       "    }\n",
       "\n",
       "    .dataframe tbody tr th {\n",
       "        vertical-align: top;\n",
       "    }\n",
       "\n",
       "    .dataframe thead th {\n",
       "        text-align: right;\n",
       "    }\n",
       "</style>\n",
       "<table border=\"1\" class=\"dataframe\">\n",
       "  <thead>\n",
       "    <tr style=\"text-align: right;\">\n",
       "      <th></th>\n",
       "      <th>Model</th>\n",
       "      <th>Score</th>\n",
       "    </tr>\n",
       "  </thead>\n",
       "  <tbody>\n",
       "    <tr>\n",
       "      <th>2</th>\n",
       "      <td>Random Forest Classifier</td>\n",
       "      <td>83.76</td>\n",
       "    </tr>\n",
       "    <tr>\n",
       "      <th>5</th>\n",
       "      <td>Gradient Boosting Glassifier</td>\n",
       "      <td>82.23</td>\n",
       "    </tr>\n",
       "    <tr>\n",
       "      <th>1</th>\n",
       "      <td>Support Vector machines</td>\n",
       "      <td>81.73</td>\n",
       "    </tr>\n",
       "    <tr>\n",
       "      <th>3</th>\n",
       "      <td>K-Nearest Neighbour</td>\n",
       "      <td>80.71</td>\n",
       "    </tr>\n",
       "    <tr>\n",
       "      <th>6</th>\n",
       "      <td>Decision Tree</td>\n",
       "      <td>80.20</td>\n",
       "    </tr>\n",
       "    <tr>\n",
       "      <th>0</th>\n",
       "      <td>Logistic Regression</td>\n",
       "      <td>79.70</td>\n",
       "    </tr>\n",
       "    <tr>\n",
       "      <th>8</th>\n",
       "      <td>Stoachstic Gradient Descent</td>\n",
       "      <td>78.17</td>\n",
       "    </tr>\n",
       "    <tr>\n",
       "      <th>4</th>\n",
       "      <td>Guassian Naive Bayes</td>\n",
       "      <td>77.66</td>\n",
       "    </tr>\n",
       "    <tr>\n",
       "      <th>7</th>\n",
       "      <td>Perceptron</td>\n",
       "      <td>76.65</td>\n",
       "    </tr>\n",
       "  </tbody>\n",
       "</table>\n",
       "</div>"
      ],
      "text/plain": [
       "                          Model  Score\n",
       "2      Random Forest Classifier  83.76\n",
       "5  Gradient Boosting Glassifier  82.23\n",
       "1       Support Vector machines  81.73\n",
       "3           K-Nearest Neighbour  80.71\n",
       "6                 Decision Tree  80.20\n",
       "0           Logistic Regression  79.70\n",
       "8   Stoachstic Gradient Descent  78.17\n",
       "4          Guassian Naive Bayes  77.66\n",
       "7                    Perceptron  76.65"
      ]
     },
     "execution_count": 49,
     "metadata": {},
     "output_type": "execute_result"
    }
   ],
   "source": [
    "models = pd.DataFrame({\n",
    "    'Model': ['Logistic Regression', 'Support Vector machines', 'Random Forest Classifier', \n",
    "              'K-Nearest Neighbour', ' Guassian Naive Bayes', 'Gradient Boosting Glassifier', \n",
    "              'Decision Tree', 'Perceptron', 'Stoachstic Gradient Descent'],\n",
    "    'Score': [log_acc, svc_acc, rfc_acc, knn_acc, guassian_acc, \n",
    "              gbc_acc, dtc_acc, perceptron_acc, sgc_acc]\n",
    "            })\n",
    "models.sort_values(by='Score', ascending=False)"
   ]
  },
  {
   "cell_type": "markdown",
   "id": "dae17f7a",
   "metadata": {
    "papermill": {
     "duration": 0.031854,
     "end_time": "2024-07-03T12:11:47.620904",
     "exception": false,
     "start_time": "2024-07-03T12:11:47.589050",
     "status": "completed"
    },
    "tags": []
   },
   "source": [
    "### Submission"
   ]
  },
  {
   "cell_type": "code",
   "execution_count": 50,
   "id": "8f1ff565",
   "metadata": {
    "execution": {
     "iopub.execute_input": "2024-07-03T12:11:47.686703Z",
     "iopub.status.busy": "2024-07-03T12:11:47.685601Z",
     "iopub.status.idle": "2024-07-03T12:11:47.713052Z",
     "shell.execute_reply": "2024-07-03T12:11:47.711781Z"
    },
    "papermill": {
     "duration": 0.063545,
     "end_time": "2024-07-03T12:11:47.715978",
     "exception": false,
     "start_time": "2024-07-03T12:11:47.652433",
     "status": "completed"
    },
    "tags": []
   },
   "outputs": [],
   "source": [
    "predictions = rfc.predict(test_df.drop('PassengerId', axis=1))\n",
    "submission = pd.DataFrame({'PassengerId': test_df['PassengerId'], 'Survived': predictions})\n",
    "submission.to_csv('submission.csv', index=False)"
   ]
  },
  {
   "cell_type": "markdown",
   "id": "11990b27",
   "metadata": {
    "papermill": {
     "duration": 0.031688,
     "end_time": "2024-07-03T12:11:47.779716",
     "exception": false,
     "start_time": "2024-07-03T12:11:47.748028",
     "status": "completed"
    },
    "tags": []
   },
   "source": [
    "References:\n",
    "- [Titanic Data Science Solutions](https://www.kaggle.com/code/startupsci/titanic-data-science-solutions)\n",
    "\n",
    "Any and all feedback,comments are appreciated!"
   ]
  },
  {
   "cell_type": "code",
   "execution_count": null,
   "id": "c731c200",
   "metadata": {
    "papermill": {
     "duration": 0.031254,
     "end_time": "2024-07-03T12:11:47.842982",
     "exception": false,
     "start_time": "2024-07-03T12:11:47.811728",
     "status": "completed"
    },
    "tags": []
   },
   "outputs": [],
   "source": []
  }
 ],
 "metadata": {
  "kaggle": {
   "accelerator": "none",
   "dataSources": [
    {
     "databundleVersionId": 26502,
     "sourceId": 3136,
     "sourceType": "competition"
    }
   ],
   "dockerImageVersionId": 30732,
   "isGpuEnabled": false,
   "isInternetEnabled": false,
   "language": "python",
   "sourceType": "notebook"
  },
  "kernelspec": {
   "display_name": "Python 3",
   "language": "python",
   "name": "python3"
  },
  "language_info": {
   "codemirror_mode": {
    "name": "ipython",
    "version": 3
   },
   "file_extension": ".py",
   "mimetype": "text/x-python",
   "name": "python",
   "nbconvert_exporter": "python",
   "pygments_lexer": "ipython3",
   "version": "3.10.13"
  },
  "papermill": {
   "default_parameters": {},
   "duration": 15.775449,
   "end_time": "2024-07-03T12:11:48.596582",
   "environment_variables": {},
   "exception": null,
   "input_path": "__notebook__.ipynb",
   "output_path": "__notebook__.ipynb",
   "parameters": {},
   "start_time": "2024-07-03T12:11:32.821133",
   "version": "2.5.0"
  }
 },
 "nbformat": 4,
 "nbformat_minor": 5
}
